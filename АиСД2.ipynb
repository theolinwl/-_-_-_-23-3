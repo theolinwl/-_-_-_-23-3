{
 "cells": [
  {
   "cell_type": "markdown",
   "id": "5844da81",
   "metadata": {},
   "source": [
    "2)"
   ]
  },
  {
   "cell_type": "code",
   "execution_count": 1,
   "id": "ddedd945",
   "metadata": {},
   "outputs": [],
   "source": [
    "class Stack():\n",
    "    def __init__(self,max_len):\n",
    "        self.stack=[]\n",
    "        self.max_len=max_len\n",
    "    def push(self,item):\n",
    "        if len(self.stack)>=self.max_len:\n",
    "            raise ValueError('Превышение емкости стека')\n",
    "        else: self.stack.append(item)\n",
    "    def pop(self):\n",
    "        if len(self.stack)==0:\n",
    "            raise ValueError('Стек пустой')\n",
    "        removed=self.stack.pop()\n",
    "        return removed\n",
    "    def top(self):\n",
    "        if len(self.stack)==0:\n",
    "            raise ValueError('Стек пустой')\n",
    "        return self.stack[-1]\n",
    "    def is_empty(self):\n",
    "        return self.stack==[]\n",
    "    def __len__(self):\n",
    "        return len(self.stack)\n",
    "    "
   ]
  },
  {
   "cell_type": "code",
   "execution_count": 2,
   "id": "9212aa93",
   "metadata": {},
   "outputs": [],
   "source": [
    "a=Stack(2)"
   ]
  },
  {
   "cell_type": "code",
   "execution_count": 3,
   "id": "fce3feb7",
   "metadata": {},
   "outputs": [],
   "source": [
    "a.push(1)"
   ]
  },
  {
   "cell_type": "code",
   "execution_count": 4,
   "id": "a3434033",
   "metadata": {},
   "outputs": [],
   "source": [
    "a.push(2)"
   ]
  },
  {
   "cell_type": "code",
   "execution_count": 5,
   "id": "fd5c83d4",
   "metadata": {},
   "outputs": [
    {
     "ename": "ValueError",
     "evalue": "Превышение емкости стека",
     "output_type": "error",
     "traceback": [
      "\u001b[1;31m---------------------------------------------------------------------------\u001b[0m",
      "\u001b[1;31mValueError\u001b[0m                                Traceback (most recent call last)",
      "Cell \u001b[1;32mIn[5], line 1\u001b[0m\n\u001b[1;32m----> 1\u001b[0m a\u001b[38;5;241m.\u001b[39mpush(\u001b[38;5;241m5\u001b[39m)\n",
      "Cell \u001b[1;32mIn[1], line 7\u001b[0m, in \u001b[0;36mStack.push\u001b[1;34m(self, item)\u001b[0m\n\u001b[0;32m      5\u001b[0m \u001b[38;5;28;01mdef\u001b[39;00m \u001b[38;5;21mpush\u001b[39m(\u001b[38;5;28mself\u001b[39m,item):\n\u001b[0;32m      6\u001b[0m     \u001b[38;5;28;01mif\u001b[39;00m \u001b[38;5;28mlen\u001b[39m(\u001b[38;5;28mself\u001b[39m\u001b[38;5;241m.\u001b[39mstack)\u001b[38;5;241m>\u001b[39m\u001b[38;5;241m=\u001b[39m\u001b[38;5;28mself\u001b[39m\u001b[38;5;241m.\u001b[39mmax_len:\n\u001b[1;32m----> 7\u001b[0m         \u001b[38;5;28;01mraise\u001b[39;00m \u001b[38;5;167;01mValueError\u001b[39;00m(\u001b[38;5;124m'\u001b[39m\u001b[38;5;124mПревышение емкости стека\u001b[39m\u001b[38;5;124m'\u001b[39m)\n\u001b[0;32m      8\u001b[0m     \u001b[38;5;28;01melse\u001b[39;00m: \u001b[38;5;28mself\u001b[39m\u001b[38;5;241m.\u001b[39mstack\u001b[38;5;241m.\u001b[39mappend(item)\n",
      "\u001b[1;31mValueError\u001b[0m: Превышение емкости стека"
     ]
    }
   ],
   "source": [
    "a.push(5)"
   ]
  },
  {
   "cell_type": "code",
   "execution_count": null,
   "id": "5ad345cb",
   "metadata": {},
   "outputs": [],
   "source": [
    "a.stack"
   ]
  },
  {
   "cell_type": "code",
   "execution_count": null,
   "id": "2fbfe61b",
   "metadata": {},
   "outputs": [],
   "source": [
    "a.pop()"
   ]
  },
  {
   "cell_type": "code",
   "execution_count": null,
   "id": "5bc37ab7",
   "metadata": {},
   "outputs": [],
   "source": [
    "a.top()"
   ]
  },
  {
   "cell_type": "code",
   "execution_count": null,
   "id": "ae456717",
   "metadata": {},
   "outputs": [],
   "source": [
    "a.stack"
   ]
  },
  {
   "cell_type": "code",
   "execution_count": null,
   "id": "490b0680",
   "metadata": {},
   "outputs": [],
   "source": [
    "a.is_empty()"
   ]
  },
  {
   "cell_type": "code",
   "execution_count": null,
   "id": "e029e6c7",
   "metadata": {},
   "outputs": [],
   "source": [
    "len(a)"
   ]
  },
  {
   "cell_type": "markdown",
   "id": "c9609e11",
   "metadata": {},
   "source": [
    "1)"
   ]
  },
  {
   "cell_type": "code",
   "execution_count": 20,
   "id": "956283f2",
   "metadata": {},
   "outputs": [
    {
     "name": "stdout",
     "output_type": "stream",
     "text": [
      "((dsasdas((das(d)das)d)asd)da)\n"
     ]
    },
    {
     "data": {
      "text/plain": [
       "'Корректное количество скобок'"
      ]
     },
     "execution_count": 20,
     "metadata": {},
     "output_type": "execute_result"
    }
   ],
   "source": [
    "from collections import deque\n",
    "class Stack2(deque):\n",
    "    def push(self,item):\n",
    "        self.append(item)\n",
    "s=input()\n",
    "def brackets_check(s):\n",
    "    n=Stack2()\n",
    "    for i in s:\n",
    "        if i=='(':\n",
    "            n.push(i)\n",
    "        elif i==')':\n",
    "            if len(n)==0: \n",
    "                return 'Некорректное количество скобок'\n",
    "            else: \n",
    "                n.pop()\n",
    "    if len(n)==0:\n",
    "        return 'Корректное количество скобок'\n",
    "brackets_check(s)\n",
    "\n"
   ]
  },
  {
   "cell_type": "markdown",
   "id": "42dfc8b7",
   "metadata": {},
   "source": [
    "3."
   ]
  },
  {
   "cell_type": "code",
   "execution_count": 35,
   "id": "76911ef0",
   "metadata": {},
   "outputs": [],
   "source": [
    "class Node():\n",
    "    def __init__(self,elem):\n",
    "        self.elem=elem\n",
    "        self.next=None\n",
    "        \n",
    "class LinkedList():\n",
    "    def __init__(self):\n",
    "        self.head=None\n",
    "    def append(self,elem):\n",
    "        new_node=Node(elem)\n",
    "        if not self.head:\n",
    "            self.head=new_node\n",
    "        else:\n",
    "            last_node=self.head\n",
    "            while last_node.next:\n",
    "                last_node=last_node.next\n",
    "            last_node.next=new_node\n",
    "    def show(self):\n",
    "        current=self.head\n",
    "        while current:\n",
    "            print(current.elem,end=' ')\n",
    "            current=current.next\n",
    "    def left_append(self,elem):\n",
    "        new_node=Node(elem)\n",
    "        new_node.next=self.head\n",
    "        self.head=new_node"
   ]
  },
  {
   "cell_type": "code",
   "execution_count": 36,
   "id": "6b5494e1",
   "metadata": {},
   "outputs": [
    {
     "name": "stdout",
     "output_type": "stream",
     "text": [
      "1 2 3 "
     ]
    }
   ],
   "source": [
    "\n",
    "llist = LinkedList()\n",
    "llist.append(2)  \n",
    "llist.append(3)\n",
    "llist.left_append(1)  \n",
    "llist.show()  \n"
   ]
  },
  {
   "cell_type": "markdown",
   "id": "31a4c2ad",
   "metadata": {},
   "source": [
    "4."
   ]
  },
  {
   "cell_type": "code",
   "execution_count": 43,
   "id": "ddf85992",
   "metadata": {},
   "outputs": [],
   "source": [
    "class DoubleNode():\n",
    "    def __init__(self,elem):\n",
    "        self.elem=elem\n",
    "        self.next=None\n",
    "        self.prev=None\n",
    "        \n",
    "class DoubleLinkedList():\n",
    "    def __init__(self):\n",
    "        self.head=None\n",
    "    def append(self,elem):\n",
    "        new_node=DoubleNode(elem)\n",
    "        if not self.head:\n",
    "            self.head=new_node\n",
    "        else:\n",
    "            last_node=self.head\n",
    "            while last_node.next:\n",
    "                last_node=last_node.next\n",
    "            last_node.next=new_node\n",
    "            new_node.prev=last_node\n",
    "    def show(self):\n",
    "        current=self.head\n",
    "        while current:\n",
    "            print(current.elem,end=' ')\n",
    "            current=current.next\n",
    "    def left_append(self,elem):\n",
    "        new_node=DoubleNode(elem)\n",
    "        new_node.next=self.head\n",
    "        if self.head:\n",
    "            self.head.prev=new_node\n",
    "        self.head=new_node"
   ]
  },
  {
   "cell_type": "code",
   "execution_count": 44,
   "id": "70adc986",
   "metadata": {},
   "outputs": [
    {
     "name": "stdout",
     "output_type": "stream",
     "text": [
      "1 2 3 "
     ]
    }
   ],
   "source": [
    "dllist = DoubleLinkedList()\n",
    "dllist.append(2)  \n",
    "dllist.append(3)\n",
    "dllist.left_append(1)  \n",
    "dllist.show()"
   ]
  },
  {
   "cell_type": "markdown",
   "id": "a10139a7",
   "metadata": {},
   "source": [
    "5."
   ]
  },
  {
   "cell_type": "code",
   "execution_count": 17,
   "id": "55a9ac70",
   "metadata": {},
   "outputs": [],
   "source": [
    "class Node():\n",
    "    def __init__(self, elem=None):\n",
    "        self.elem = elem\n",
    "        self.next = None\n",
    "\n",
    "class Queue():\n",
    "    def __init__(self):\n",
    "        self.front = None\n",
    "        self.back = None\n",
    "\n",
    "    def enqueue(self, elem):\n",
    "        new_node = Node(elem)\n",
    "        if self.back is None:\n",
    "            self.front = new_node\n",
    "            self.back = new_node\n",
    "        else:\n",
    "            self.back.next = new_node\n",
    "            self.back = new_node\n",
    "\n",
    "    def dequeue(self):\n",
    "        elem = self.front.elem\n",
    "        self.front = self.front.next\n",
    "        if self.front is None:\n",
    "            self.back = None\n",
    "        return elem\n",
    "\n",
    "    def show(self):\n",
    "        current = self.front\n",
    "        while current:\n",
    "            print(current.elem, end=' ')\n",
    "            current = current.next"
   ]
  },
  {
   "cell_type": "code",
   "execution_count": 20,
   "id": "6a0a6112",
   "metadata": {},
   "outputs": [
    {
     "name": "stdout",
     "output_type": "stream",
     "text": [
      "1 2 3 \n",
      "3 "
     ]
    }
   ],
   "source": [
    "queue = Queue()\n",
    "queue.enqueue(1)\n",
    "queue.enqueue(2)\n",
    "queue.enqueue(3)\n",
    "\n",
    "queue.show()\n",
    "print()\n",
    "queue.dequeue()\n",
    "queue.dequeue()\n",
    "\n",
    "queue.show()"
   ]
  },
  {
   "cell_type": "code",
   "execution_count": null,
   "id": "447825a1",
   "metadata": {},
   "outputs": [],
   "source": []
  }
 ],
 "metadata": {
  "kernelspec": {
   "display_name": "Python 3 (ipykernel)",
   "language": "python",
   "name": "python3"
  },
  "language_info": {
   "codemirror_mode": {
    "name": "ipython",
    "version": 3
   },
   "file_extension": ".py",
   "mimetype": "text/x-python",
   "name": "python",
   "nbconvert_exporter": "python",
   "pygments_lexer": "ipython3",
   "version": "3.11.5"
  }
 },
 "nbformat": 4,
 "nbformat_minor": 5
}
