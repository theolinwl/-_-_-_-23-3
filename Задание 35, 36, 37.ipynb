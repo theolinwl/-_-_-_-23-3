{
 "cells": [
  {
   "cell_type": "markdown",
   "id": "40ae3aad-b2b0-43ba-a3fa-da2802e324f8",
   "metadata": {},
   "source": [
    "# 35 задание"
   ]
  },
  {
   "cell_type": "markdown",
   "id": "ce4c5dac-631d-4a6f-aa36-d6246897fbb1",
   "metadata": {},
   "source": [
    "12. Создайте двусвязный список для хранения информации о сотрудниках в компании. Каждый элемент списка должен содержать имя, фамилию, должность, дату приема на работу и список проектов, над которыми сотрудник работает."
   ]
  },
  {
   "cell_type": "code",
   "execution_count": 30,
   "id": "9fc262d1-5f47-476d-b5c3-4fc1d728ee7c",
   "metadata": {},
   "outputs": [],
   "source": [
    "class DoubleNode():\n",
    "    def __init__(self,elem):\n",
    "        self.elem=elem\n",
    "        self.next=None\n",
    "        self.prev=None\n",
    "        \n",
    "class DoubleLinkedList():\n",
    "    def __init__(self):\n",
    "        self.head=None\n",
    "    def append(self,elem):\n",
    "        new_node=DoubleNode(elem)\n",
    "        if not self.head:\n",
    "            self.head=new_node\n",
    "        else:\n",
    "            last_node=self.head\n",
    "            while last_node.next:\n",
    "                last_node=last_node.next\n",
    "            last_node.next=new_node\n",
    "            new_node.prev=last_node\n",
    "    def show(self):\n",
    "        current=self.head\n",
    "        while current:\n",
    "            print(current.elem)\n",
    "            print('-'*30)\n",
    "            current=current.next\n",
    "            \n",
    "    def left_append(self,elem):\n",
    "        new_node=DoubleNode(elem)\n",
    "        new_node.next=self.head\n",
    "        if self.head:\n",
    "            self.head.prev=new_node\n",
    "        self.head=new_node"
   ]
  },
  {
   "cell_type": "code",
   "execution_count": 31,
   "id": "2d68366e-199e-4c5c-a4fb-ae36c3a64a1e",
   "metadata": {},
   "outputs": [],
   "source": [
    "class Employee:\n",
    "    def __init__(self, name, surname, position, hire_date, projects):\n",
    "        self.name = name\n",
    "        self.surname = surname\n",
    "        self.position = position\n",
    "        self.hire_date = hire_date\n",
    "        self.projects = projects\n",
    "        \n",
    "    def __str__(self):\n",
    "        return f'Имя: {self.name}\\nФамилия: {self.surname}\\nДолжность: {self.position}\\nДата приема: {self.hire_date}\\nПроекты: {self.projects}'"
   ]
  },
  {
   "cell_type": "code",
   "execution_count": 32,
   "id": "04747b26-a871-4cc8-b9aa-c8c891b03fb2",
   "metadata": {},
   "outputs": [
    {
     "name": "stdout",
     "output_type": "stream",
     "text": [
      "Имя: Екатерина\n",
      "Фамилия: Андреева\n",
      "Должность: Инженер\n",
      "Дата приема: 02.01.2016\n",
      "Проекты: ['Проект2', 'Проект3']\n",
      "------------------------------\n",
      "Имя: Иван\n",
      "Фамилия: Иванов\n",
      "Должность: Программист\n",
      "Дата приема: 01.01.2005\n",
      "Проекты: ['Проект1', 'Проект2']\n",
      "------------------------------\n"
     ]
    }
   ],
   "source": [
    "employee_list = DoubleLinkedList()\n",
    "\n",
    "emp1 = Employee('Иван', 'Иванов', \"Программист\", '01.01.2005', ['Проект1', 'Проект2'])\n",
    "emp2 = Employee('Екатерина', 'Андреева', 'Инженер', '02.01.2016', ['Проект2', 'Проект3'])\n",
    "\n",
    "employee_list.append(emp1)\n",
    "employee_list.left_append(emp2)\n",
    "employee_list.show()"
   ]
  },
  {
   "cell_type": "markdown",
   "id": "bd3338d3-341d-47f7-b84a-b47217914157",
   "metadata": {},
   "source": [
    "# Задание 36"
   ]
  },
  {
   "cell_type": "markdown",
   "id": "f2e8657c-f2e8-40b9-89ef-952f694c461d",
   "metadata": {},
   "source": [
    "12. Реализовать функцию, которая удаляет все элементы с заданным значением из двусвязного списка."
   ]
  },
  {
   "cell_type": "code",
   "execution_count": 40,
   "id": "706c53aa-fd53-4980-acc4-a4ea67f83477",
   "metadata": {},
   "outputs": [],
   "source": [
    "class DoubleNode():\n",
    "    def __init__(self, elem):\n",
    "        self.elem = elem\n",
    "        self.next = None\n",
    "        self.prev = None\n",
    "        \n",
    "class DoubleLinkedList():\n",
    "    def __init__(self):\n",
    "        self.head = None\n",
    "    \n",
    "    def append(self, elem):\n",
    "        new_node = DoubleNode(elem)\n",
    "        if not self.head:\n",
    "            self.head = new_node\n",
    "        else:\n",
    "            last_node = self.head\n",
    "            while last_node.next:\n",
    "                last_node = last_node.next\n",
    "            last_node.next = new_node\n",
    "            new_node.prev = last_node\n",
    "    \n",
    "    def show(self):\n",
    "        current = self.head\n",
    "        while current:\n",
    "            print(current.elem) \n",
    "            current = current.next\n",
    "            \n",
    "    def left_append(self, elem):\n",
    "        new_node = DoubleNode(elem)\n",
    "        new_node.next = self.head\n",
    "        if self.head:\n",
    "            self.head.prev = new_node\n",
    "        self.head = new_node\n",
    "    \n",
    "    def remove_elem(self, value):\n",
    "        current = self.head\n",
    "        while current:\n",
    "            if current.elem == value:\n",
    "                if current.prev:\n",
    "                    current.prev.next = current.next\n",
    "                else:\n",
    "                    self.head = current.next\n",
    "                if current.next:\n",
    "                    current.next.prev = current.prev\n",
    "            current = current.next\n"
   ]
  },
  {
   "cell_type": "code",
   "execution_count": 41,
   "id": "177730fc-1505-4295-978d-943150c76580",
   "metadata": {},
   "outputs": [
    {
     "name": "stdout",
     "output_type": "stream",
     "text": [
      "До\n",
      "1\n",
      "2\n",
      "3\n",
      "2\n",
      "4\n",
      "2\n",
      "После\n",
      "1\n",
      "3\n",
      "4\n"
     ]
    }
   ],
   "source": [
    "dll = DoubleLinkedList()\n",
    "dll.append(1)\n",
    "dll.append(2)\n",
    "dll.append(3)\n",
    "dll.append(2)\n",
    "dll.append(4)\n",
    "dll.append(2)\n",
    "\n",
    "print('До')\n",
    "dll.show()\n",
    "\n",
    "dll.remove_elem(2)\n",
    "\n",
    "print('После')\n",
    "dll.show()"
   ]
  },
  {
   "cell_type": "markdown",
   "id": "6022ed3a-e3a5-4e70-9657-856a46fbe6e4",
   "metadata": {},
   "source": [
    "# Задание 37"
   ]
  },
  {
   "cell_type": "markdown",
   "id": "5ea2864c-3071-480d-a78a-1c8b049d7e9d",
   "metadata": {},
   "source": [
    "12. Реализовать функцию, которая находит максимальный элемент в циклическом двусвязном списке."
   ]
  },
  {
   "cell_type": "code",
   "execution_count": 42,
   "id": "2b8b7e89-7b5f-4d71-adeb-e736047e7eb6",
   "metadata": {},
   "outputs": [],
   "source": [
    "class DoubleNode():\n",
    "    def __init__(self, elem):\n",
    "        self.elem = elem\n",
    "        self.next = None\n",
    "        self.prev = None\n",
    "        \n",
    "class DoubleLinkedList():\n",
    "    def __init__(self):\n",
    "        self.head = None\n",
    "    \n",
    "    def append(self, elem):\n",
    "        new_node = DoubleNode(elem)\n",
    "        if not self.head:\n",
    "            self.head = new_node\n",
    "            self.head.next = self.head\n",
    "            self.head.prev = self.head\n",
    "        else:\n",
    "            last_node = self.head.prev\n",
    "            last_node.next = new_node\n",
    "            new_node.prev = last_node\n",
    "            new_node.next = self.head\n",
    "            self.head.prev = new_node\n",
    "    \n",
    "    def show(self):\n",
    "        current = self.head\n",
    "        while current:\n",
    "            print(current.elem)\n",
    "            current = current.next\n",
    "            \n",
    "    def find_max(self):\n",
    "        if not self.head:\n",
    "            return None\n",
    "\n",
    "        max_elem = self.head.elem\n",
    "        current = self.head.next\n",
    "        while current != self.head:\n",
    "            if current.elem > max_elem:\n",
    "                max_elem = current.elem\n",
    "            current = current.next\n",
    "        \n",
    "        return max_elem\n"
   ]
  },
  {
   "cell_type": "code",
   "execution_count": 44,
   "id": "94256ad3-fd77-4a0b-a917-961bb2ff1e81",
   "metadata": {},
   "outputs": [
    {
     "name": "stdout",
     "output_type": "stream",
     "text": [
      "Максимальный элемент 30\n"
     ]
    }
   ],
   "source": [
    "dll = DoubleLinkedList()\n",
    "dll.append(10)\n",
    "dll.append(20)\n",
    "dll.append(15)\n",
    "dll.append(5)\n",
    "dll.append(30)\n",
    "\n",
    "print('Максимальный элемент', dll.find_max())\n"
   ]
  }
 ],
 "metadata": {
  "kernelspec": {
   "display_name": "Python 3 (ipykernel)",
   "language": "python",
   "name": "python3"
  },
  "language_info": {
   "codemirror_mode": {
    "name": "ipython",
    "version": 3
   },
   "file_extension": ".py",
   "mimetype": "text/x-python",
   "name": "python",
   "nbconvert_exporter": "python",
   "pygments_lexer": "ipython3",
   "version": "3.11.7"
  }
 },
 "nbformat": 4,
 "nbformat_minor": 5
}
