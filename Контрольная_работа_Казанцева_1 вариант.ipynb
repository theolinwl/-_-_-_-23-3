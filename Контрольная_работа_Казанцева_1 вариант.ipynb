{
 "cells": [
  {
   "cell_type": "markdown",
   "metadata": {},
   "source": [
    "### Контрольная работа № 1.\n",
    "### Вариант 1.\n",
    "#### Студент Казанцева Елизавета группа ИД23-3"
   ]
  },
  {
   "cell_type": "markdown",
   "metadata": {},
   "source": [
    "1. Создайте класс Length (Длина), имеющий свойства\n",
    "\n",
    "• value (значение),\n",
    "\n",
    "• unit (единица измерения).\n",
    "\n",
    "При изменении единицы измерения значение должно соответственно меняться. Например, при переходе от сантиметров к метрам значение должно уменьшаться в 100 раз. Допустимые значения свойства unit: ‘см’, ‘м’, ‘км’. Организуйте эту проверку. Продемонстрируйте работу с классом."
   ]
  },
  {
   "cell_type": "code",
   "execution_count": 3,
   "metadata": {},
   "outputs": [],
   "source": [
    "# Решение 1.\n",
    "class Length:\n",
    "    def __init__(self, value, unit):\n",
    "        self.value = value\n",
    "        self.unit = unit\n",
    "        if not self.check():\n",
    "            raise ValueError('Недопустимое значение свойства unit (см, м, км)')\n",
    "\n",
    "    def check(self):\n",
    "        if self.unit in ['см', 'м', 'км']:\n",
    "            return True\n",
    "        return False\n",
    "    \n",
    "    def to_m(self):\n",
    "        if self.unit == 'см':\n",
    "            self.value /= 100\n",
    "            self.unit = 'м'\n",
    "        elif self.unit == 'км':\n",
    "            self.value *= 1000\n",
    "            self.unit = 'м'\n",
    "    \n",
    "    def to_cm(self):\n",
    "        if self.unit == 'м':\n",
    "            self.value *= 100\n",
    "            self.unit = 'см'\n",
    "        elif self.unit == 'км':\n",
    "            self.value *= 100000\n",
    "            self.unit = 'см'\n",
    "    \n",
    "    def to_km(self):\n",
    "        if self.unit == 'м':\n",
    "            self.value /= 1000\n",
    "            self.unit = 'км'\n",
    "        elif self.unit == 'см':\n",
    "            self.value /= 100000\n",
    "            self.unit = 'км'\n",
    "    \n",
    "    def __str__(self):\n",
    "        return f'{self.value} {self.unit}'\n",
    "    "
   ]
  },
  {
   "cell_type": "code",
   "execution_count": 5,
   "metadata": {},
   "outputs": [
    {
     "name": "stdout",
     "output_type": "stream",
     "text": [
      "115 см\n",
      "1.15 м\n",
      "0.00115 км\n"
     ]
    }
   ],
   "source": [
    "l1 = Length(115, 'см')\n",
    "print(l1)\n",
    "\n",
    "l1.to_m()\n",
    "print(l1) \n",
    "\n",
    "l1.to_km()\n",
    "print(l1)"
   ]
  },
  {
   "cell_type": "markdown",
   "metadata": {},
   "source": [
    "2. Создайте класс Ведомость, имеющий\n",
    "атрибут класса:\n",
    "\n",
    "• список_дисциплин (значением является список с названиями дисциплин);\n",
    "\n",
    "свойства:\n",
    "\n",
    "• дисциплина (при задании значения проверять наличие дисциплины в атрибуте список_дисциплин),\n",
    "\n",
    "• группа;\n",
    "\n",
    "методы:\n",
    "\n",
    "• put – добавляет в ведомость информацию об оценке студента (фамилия, оценка – параметры метода). Для хранения данных внутри класса используйте словарь, в котором ключом является фамилия студента. Возможные оценки – «отлично», «хорошо», «удовл.», «неудовл.», «н/я»;\n",
    "\n",
    "• get – возвращает оценку, полученную студентом (фамилия студента – параметр метода);\n",
    "\n",
    "• change – изменяет оценку, полученную студентом (фамилия студента и новая оценка – параметры метода);\n",
    "\n",
    "• del – удаляет информацию о студенте из ведомости (фамилия студента – параметр метода);\n",
    "\n",
    "• result – возвращает кортеж из 5 чисел (количество каждого вида оценок в ведомости);\n",
    "\n",
    "• __init__ – конструктор;\n",
    "\n",
    "• __str__ – возвращает строку, содержащую заголовки (название экзамена, группа) и результаты экзамена в виде таблицы;\n",
    "\n",
    "• count – возвращает количество студентов в ведомости;\n",
    "\n",
    "• names – возвращает список фамилий, имеющихся в ведомости.\n",
    "\n",
    "Продемонстрируйте работу с классом. \n"
   ]
  },
  {
   "cell_type": "code",
   "execution_count": 32,
   "metadata": {},
   "outputs": [],
   "source": [
    "# Решение 2.\n",
    "class Sheet:\n",
    "    def __init__(self, discipline, group):    \n",
    "        self.list_disciplines = ['Математика', 'Информатика', 'Физика']\n",
    "        if discipline not in self.list_disciplines:\n",
    "            raise ValueError(\"Недопустимая дисциплина\")        \n",
    "        self.discipline = discipline\n",
    "        self.group = group        \n",
    "        self.grades = {}\n",
    "    \n",
    "    def put(self, name, grade):\n",
    "        if grade in ['отлично', 'хорошо', 'удовл.', 'неудовл.', 'н/я»']:\n",
    "            self.grades[name] = grade\n",
    "        else:\n",
    "            print('Недопустимый формат оценки')\n",
    "            \n",
    "    def get(self, name):\n",
    "        return self.grades[name]\n",
    "    \n",
    "    def change(self, name, new_grade):\n",
    "        if new_grade in ['отлично', 'хорошо', 'удовл.', 'неудовл.', 'н/я»']:\n",
    "            self.grades[name] = new_grade\n",
    "        else:\n",
    "            print('Недопустимый формат оценки')\n",
    "            \n",
    "    def __del__(self, name):\n",
    "        del self.grades[name]\n",
    "        \n",
    "    def result(self):\n",
    "        otl = sum(1 for grade in self.grades.values() if grade == 'отлично')\n",
    "        xor = sum(1 for grade in self.grades.values() if grade == 'хорошо')        \n",
    "        ud = sum(1 for grade in self.grades.values() if grade == 'удовл.')\n",
    "        neud = sum(1 for grade in self.grades.values() if grade == 'неудовл.')        \n",
    "        nya = sum(1 for grade in self.grades.values() if grade == 'н/я')\n",
    "        return (otl, xor, ud, neud, nya)\n",
    "    \n",
    "    def __str__(self):        \n",
    "        result_str = f\"Экзамен: {self.discipline}\\nГруппа: {self.group}\\n\\n\"\n",
    "        result_str += \"Фамилия\\t\\tОценка\\n\"        \n",
    "        for surname, grade in self.grades.items():\n",
    "            result_str += f\"{surname}\\t\\t{grade}\\n\"        \n",
    "        return result_str\n",
    "    \n",
    "    def count(self):\n",
    "        return len(self.grades)\n",
    "    \n",
    "    def names(self):\n",
    "        return list(self.grades.keys())"
   ]
  },
  {
   "cell_type": "markdown",
   "metadata": {},
   "source": [
    "3. Создайте класс Заказ(Order), у которого есть свойства код_товара(code), цена(price), количество(count) и методы __init__ и __str__.\n",
    "\n",
    "Создайте 2 класса-потомка: Опт(Opt) и Розница(Retail).\n",
    "В этих классах создайте методы __init__, __str__.и сумма_заказа(summa), позволяющий узнать стоимость заказа.\n",
    "Для опта стоимость единицы товара составляет 95% от цены, а при покупке более 500 штук – 90% цены.\n",
    "В розницу стоимость единицы товара составляет 100% цены. Стоимость заказа равна произведению цены на количество. \n",
    "\n",
    "Продемонстрируйте работу с классами, создав необходимые объекты и обратившись к их свойствам и методам\n"
   ]
  },
  {
   "cell_type": "code",
   "execution_count": 13,
   "metadata": {},
   "outputs": [],
   "source": [
    "# Решение 3.\n",
    "class Order:\n",
    "    def __init__(self, code, price, count):\n",
    "        self.code = code\n",
    "        self.price = price\n",
    "        self.count = count\n",
    "        \n",
    "    def __str__(self):\n",
    "        return f'Заказ: код товара - {self.code}, цена - {self.price}, количество - {self.count}'\n",
    "    \n",
    "class Opt(Order):\n",
    "    def summa(self):\n",
    "        print('Сумма заказа:')\n",
    "        if self.count <= 500:\n",
    "            return 0.95 * self.price * self.count\n",
    "        return 0.9 * self.price * self.count\n",
    "    \n",
    "class Retail(Order):\n",
    "    def summa(self):\n",
    "        print('Сумма заказа:')\n",
    "        return self.price * self.count"
   ]
  },
  {
   "cell_type": "code",
   "execution_count": 16,
   "metadata": {},
   "outputs": [
    {
     "name": "stdout",
     "output_type": "stream",
     "text": [
      "Заказ: код товара - 234, цена - 500, количество - 1000\n",
      "Сумма заказа:\n"
     ]
    },
    {
     "data": {
      "text/plain": [
       "450000.0"
      ]
     },
     "execution_count": 16,
     "metadata": {},
     "output_type": "execute_result"
    }
   ],
   "source": [
    "order1 = Opt(234, 500, 1000)\n",
    "print(order1)\n",
    "\n",
    "order1.summa()"
   ]
  },
  {
   "cell_type": "code",
   "execution_count": 17,
   "metadata": {},
   "outputs": [
    {
     "name": "stdout",
     "output_type": "stream",
     "text": [
      "Заказ: код товара - 7635265, цена - 320, количество - 15\n",
      "Сумма заказа:\n"
     ]
    },
    {
     "data": {
      "text/plain": [
       "4800"
      ]
     },
     "execution_count": 17,
     "metadata": {},
     "output_type": "execute_result"
    }
   ],
   "source": [
    "order1 = Retail(7635265, 320, 15)\n",
    "print(order1)\n",
    "\n",
    "order1.summa()"
   ]
  },
  {
   "cell_type": "markdown",
   "metadata": {},
   "source": [
    "4. Написать функцию my_func_1(lst), которая переворачивает список вложенных списков с произвольным уровнем вложенности.\n",
    "Любой элемент, не являющийся списком, не должен быть изменен.\n",
    "\n",
    "Примеры, демонстрирующие ожидаемое поведение функции:\n",
    "\n",
    "assert my_func_1(42) == 42\n",
    "\n",
    "assert my_func_1([]) == []\n",
    "\n",
    "assert my_func_1([1, 2]) == [2, 1]\n",
    "\n",
    "assert my_func_1((1, 2)) == (1, 2)\n",
    "\n",
    "assert my_func_1([[1, 2], [3, [4, 5]], 6]) == [6, [[5, 4], 3], [2, 1]]\n",
    "\n",
    "assert my_func_1(['123', '456', '789', {10: [11, 12], 13: 14}, (15, 16)]) == [(15, 16), {10: [11, 12], 13: 14}, '789', '456', '123']\n",
    "\n",
    "assert my_func_1([[[[[1, 2]]]]]) == [[[[[2, 1]]]]]"
   ]
  },
  {
   "cell_type": "code",
   "execution_count": 18,
   "metadata": {},
   "outputs": [],
   "source": [
    "# Решение 4.\n",
    "def my_func_1(lst):\n",
    "    if isinstance(lst, list):\n",
    "        return [my_func_1(i) for i in reversed(lst)]\n",
    "    else:\n",
    "        return lst\n",
    "            "
   ]
  },
  {
   "cell_type": "code",
   "execution_count": 23,
   "metadata": {},
   "outputs": [
    {
     "name": "stdout",
     "output_type": "stream",
     "text": [
      "42\n",
      "[]\n",
      "[2, 1]\n",
      "(1, 2)\n",
      "[6, [[5, 4], 3], [2, 1]]\n",
      "[(15, 16), {10: [11, 12], 13: 14}, '789', '456', '123']\n",
      "[[[[[2, 1]]]]]\n"
     ]
    }
   ],
   "source": [
    "print(my_func_1(42))\n",
    "\n",
    "print(my_func_1([]))\n",
    "\n",
    "print(my_func_1([1, 2]))\n",
    "\n",
    "print(my_func_1((1, 2)))\n",
    "\n",
    "print(my_func_1([[1, 2], [3, [4, 5]], 6]))\n",
    "\n",
    "print(my_func_1(['123', '456', '789', {10: [11, 12], 13: 14}, (15, 16)]))\n",
    "\n",
    "print(my_func_1([[[[[1, 2]]]]]))"
   ]
  },
  {
   "cell_type": "markdown",
   "metadata": {},
   "source": [
    "5.При помощи механизма map/filter/reduce возвести в квадрат числа от 1 до 100, и рассчитать их сумму, не включая в сумму числа, кратные 9. Написать реализацию в одну строку."
   ]
  },
  {
   "cell_type": "code",
   "execution_count": 30,
   "metadata": {},
   "outputs": [
    {
     "data": {
      "text/plain": [
       "225589"
      ]
     },
     "execution_count": 30,
     "metadata": {},
     "output_type": "execute_result"
    }
   ],
   "source": [
    "# Решение 5.\n",
    "from functools import reduce\n",
    "\n",
    "reduce(lambda x, y: x + y, filter(lambda x: x % 9 != 0, map(lambda x: x ** 2, range(1, 101))))"
   ]
  },
  {
   "cell_type": "markdown",
   "metadata": {},
   "source": [
    "6.Написать декоратор с параметром my_decorator(n). Декоратор превращает функцию, возвращающую поддерживающий итерации объект (далее \"последовательность\"), в функцию-генератор. Если декорируемая функция возвращает что-то другое, а не последовательность, то декоратор должен вернуть этот результат вызова функции без изменений.\n",
    "\n",
    "Проверку объекта можно организовать при помощи условия import collections if isinstance(item, collections.Iterable)\n",
    "\n",
    "Параметром декоратора может быть целое положительное число n, тогда получившаяся функция-декоратор должна генерировать по одному значению из последовательности, повторенной n раз. Также параметр может принимать строковое значение 'inf', тогда функция-декоратор генерирует по одному значению из последовательности, повторенной бесконечное число раз (зацикливает генерирование результата).\n",
    "\n",
    "Подсказка: сначала реализовать случай со значением аргумента 'inf', а затем модифицировать для целочисленного значения аргумента."
   ]
  }
 ],
 "metadata": {
  "kernelspec": {
   "display_name": "Python 3 (ipykernel)",
   "language": "python",
   "name": "python3"
  },
  "language_info": {
   "codemirror_mode": {
    "name": "ipython",
    "version": 3
   },
   "file_extension": ".py",
   "mimetype": "text/x-python",
   "name": "python",
   "nbconvert_exporter": "python",
   "pygments_lexer": "ipython3",
   "version": "3.10.9"
  }
 },
 "nbformat": 4,
 "nbformat_minor": 4
}
