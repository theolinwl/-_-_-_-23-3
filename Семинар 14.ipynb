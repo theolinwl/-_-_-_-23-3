{
 "cells": [
  {
   "cell_type": "markdown",
   "id": "1bf72931",
   "metadata": {},
   "source": [
    "10) Написать 4 функции порождения списка целых значений: отсортированного (по возрастанию и убыванию), случайного и почти отсортированного по возрастанию. Каждая функция принимает длину списка в качестве аргумента."
   ]
  },
  {
   "cell_type": "code",
   "execution_count": 30,
   "id": "63f14cbb",
   "metadata": {},
   "outputs": [],
   "source": [
    "import random\n",
    "def list_ascending(n):\n",
    "    return [i for i in range(1,n+1)]  \n",
    "def list_descending(n):\n",
    "    return [i for i in range(n,0,-1)]\n",
    "def list_random(n):\n",
    "    return [random.randint(1,100) for i in range(n)]\n",
    "def list_almost_sorted(n):\n",
    "    listt=[i for i in range(1,n+1)]\n",
    "    #меняем три случайных пары, тем самым создавая почти отсортированный список\n",
    "    for _ in range(3):\n",
    "        r1=random.randint(0,n-2)\n",
    "        r2=random.randint(0,n-2)\n",
    "        temp=listt[r1]\n",
    "        listt[r1]=listt[r2]\n",
    "        listt[r2]=temp\n",
    "    return listt"
   ]
  },
  {
   "cell_type": "code",
   "execution_count": 5,
   "id": "0b2c2bae",
   "metadata": {},
   "outputs": [
    {
     "data": {
      "text/plain": [
       "[1, 2, 3, 4, 5, 6, 7, 8, 9, 10, 11, 12, 13, 14, 15]"
      ]
     },
     "execution_count": 5,
     "metadata": {},
     "output_type": "execute_result"
    }
   ],
   "source": [
    "list_ascending(15)"
   ]
  },
  {
   "cell_type": "code",
   "execution_count": 6,
   "id": "819eecfb",
   "metadata": {},
   "outputs": [
    {
     "data": {
      "text/plain": [
       "[15, 14, 13, 12, 11, 10, 9, 8, 7, 6, 5, 4, 3, 2, 1]"
      ]
     },
     "execution_count": 6,
     "metadata": {},
     "output_type": "execute_result"
    }
   ],
   "source": [
    "list_descending(15)"
   ]
  },
  {
   "cell_type": "code",
   "execution_count": 7,
   "id": "a51a7d92",
   "metadata": {},
   "outputs": [
    {
     "data": {
      "text/plain": [
       "[23, 8, 13, 88, 7, 12, 80, 19, 77, 36, 1, 29, 44, 13, 75]"
      ]
     },
     "execution_count": 7,
     "metadata": {},
     "output_type": "execute_result"
    }
   ],
   "source": [
    "list_random(15)"
   ]
  },
  {
   "cell_type": "code",
   "execution_count": 8,
   "id": "5b017b58",
   "metadata": {},
   "outputs": [
    {
     "data": {
      "text/plain": [
       "[1, 2, 12, 9, 5, 6, 7, 8, 4, 3, 11, 10, 13, 14, 15]"
      ]
     },
     "execution_count": 8,
     "metadata": {},
     "output_type": "execute_result"
    }
   ],
   "source": [
    "list_almost_sorted(15)"
   ]
  },
  {
   "cell_type": "markdown",
   "id": "bad3287a",
   "metadata": {},
   "source": [
    "11) Реализовать функцию тестирования алгоритма сортировки. Процедура принимает на вход алгоритм сортировки и алгоритм порождения списка f_gen(list_len), генерирующий список заданной длины, количество повтороений теста и список длин использующихся для тестирования. Для каждой длины списка функция тестирования возвращает минимальное, среднее и наибольшее количество сравнений и перестановок."
   ]
  },
  {
   "cell_type": "code",
   "execution_count": 12,
   "id": "fccc75ee",
   "metadata": {},
   "outputs": [
    {
     "name": "stdout",
     "output_type": "stream",
     "text": [
      "Тестирование алгоритма пузырек:\n",
      "\n",
      "Сортировка отсортированного списка:\n",
      "{'Для длины списка 10': {'Минимальное количество сравнений': 9, 'Среднее количество сравнений': 9, 'Максимальное количество сравнений': 9, 'Минимальное количество перестановок': 0, 'Среднее количество перестановок': 0, 'Максимальное количество перестановок': 0}, 'Для длины списка 100': {'Минимальное количество сравнений': 99, 'Среднее количество сравнений': 99, 'Максимальное количество сравнений': 99, 'Минимальное количество перестановок': 0, 'Среднее количество перестановок': 0, 'Максимальное количество перестановок': 0}, 'Для длины списка 1000': {'Минимальное количество сравнений': 999, 'Среднее количество сравнений': 999, 'Максимальное количество сравнений': 999, 'Минимальное количество перестановок': 0, 'Среднее количество перестановок': 0, 'Максимальное количество перестановок': 0}}\n"
     ]
    }
   ],
   "source": [
    "import statistics\n",
    "\n",
    "def test_sort(sort_func, list_generator, repetitions, lengths):\n",
    "    results = {}  # Создаем пустой словарь для результатов\n",
    "    for length in lengths:  # Проходим по всем длинам списков для тестирования\n",
    "        comparisons = []  # Список для хранения количества сравнений\n",
    "        swaps = []  # Список для хранения количества перестановок\n",
    "        for i in range(repetitions):  # Повторяем тест определенное количество раз\n",
    "            # Генерируем список с помощью переданной функции list_generator\n",
    "            lst = list_generator(length)\n",
    "            # Считаем количество сравнений и перестановок для отсортированного списка\n",
    "            comparisons_count, swaps_count = sort_func(lst) \n",
    "            comparisons.append(comparisons_count)  # Добавляем количество сравнений в список\n",
    "            swaps.append(swaps_count)  # Добавляем количество перестановок в список\n",
    "        # Записываем результаты теста в словарь\n",
    "        results[f'Для длины списка {length}'] = {\n",
    "            'Минимальное количество сравнений': min(comparisons),  \n",
    "            'Среднее количество сравнений': statistics.mean(comparisons), \n",
    "            'Максимальное количество сравнений': max(comparisons), \n",
    "            'Минимальное количество перестановок': min(swaps),  \n",
    "            'Среднее количество перестановок': statistics.mean(swaps),  \n",
    "            'Максимальное количество перестановок': max(swaps) \n",
    "        }\n",
    "    return results  # Возвращаем словарь с результатами теста\n",
    "\n",
    "def bubble_sort(lst):\n",
    "    comparisons = 0  # Инициализируем счетчик сравнений\n",
    "    swaps = 0  # Инициализируем счетчик перестановок\n",
    "    n = len(lst)  # Длина списка\n",
    "    for i in range(n):  # Проходим по всем элементам списка\n",
    "        for j in range(n - i - 1):  # Проходим по элементам до n-i-1\n",
    "            comparisons += 1  # Увеличиваем счетчик сравнений\n",
    "            if lst[j] > lst[j + 1]:  # Если текущий элемент больше следующего\n",
    "                lst[j], lst[j + 1] = lst[j + 1], lst[j]  # Меняем их местами\n",
    "                swaps += 1  # Увеличиваем счетчик перестановок\n",
    "    return comparisons, swaps  # Возвращаем количество сравнений и перестановок\n",
    "\n",
    "def bubble_sort(a_list):\n",
    "    comparisons = 0\n",
    "    swaps = 0\n",
    "    for pass_num in range(len(a_list) - 1, 0, -1):\n",
    "        flag = False\n",
    "        for i in range(pass_num):\n",
    "            comparisons += 1 \n",
    "            if a_list[i] > a_list[i + 1]:\n",
    "                temp = a_list[i]\n",
    "                a_list[i] = a_list[i + 1]\n",
    "                a_list[i + 1] = temp\n",
    "                swaps += 1\n",
    "                flag = True\n",
    "        if not flag:\n",
    "            return comparisons, swaps\n",
    "    return comparisons, swaps\n",
    "\n",
    "# Тестирование алгоритма \"пузырек\" \n",
    "print(\"Тестирование алгоритма пузырек:\")\n",
    "print()\n",
    "print(\"Сортировка отсортированного списка:\")\n",
    "list_lengths = [10, 100, 1000]  # пример списка длин для тестирования\n",
    "repetitions = 10  # количество повторений теста\n",
    "results = test_sort(bubble_sort, list_ascending, repetitions, list_lengths)\n",
    "print(results)"
   ]
  },
  {
   "cell_type": "markdown",
   "id": "2ed27c41",
   "metadata": {},
   "source": [
    "12) Реализовать модификацию сортировки пузырьком: \"камешек-пузырек\" - с чередующимися проходами, приводящими к \"всплытию\" самого большого значения списка и \"погружению\" самого маленького значения из неотсортированной части списка."
   ]
  },
  {
   "cell_type": "code",
   "execution_count": 55,
   "id": "6741fb28",
   "metadata": {},
   "outputs": [],
   "source": [
    "def bubble_sort(a_list):\n",
    "    for pass_num in range(len(a_list) - 1, 0, -1):\n",
    "        flag = False\n",
    "        for i in range(pass_num):\n",
    "            if a_list[i] > a_list[i + 1]:\n",
    "                temp = a_list[i]\n",
    "                a_list[i] = a_list[i + 1]\n",
    "                a_list[i + 1] = temp\n",
    "                flag = True\n",
    "        if not flag:\n",
    "            return a_list\n",
    "    return a_list"
   ]
  },
  {
   "cell_type": "code",
   "execution_count": 56,
   "id": "dc8e2670",
   "metadata": {},
   "outputs": [],
   "source": [
    "def stone_bubble_sort(a_list):\n",
    "    for pass_num in range(len(a_list)-1,0,-1):\n",
    "        flag=False\n",
    "        for i in range(pass_num):\n",
    "            #меняем, начиная с первых элементов\n",
    "            if a_list[i]>a_list[i+1]:\n",
    "                temp=a_list[i]\n",
    "                a_list[i]=a_list[i+1]\n",
    "                a_list[i+1]=temp\n",
    "                flag=True\n",
    "            #меняем, начиная с последних элементов\n",
    "            if a_list[len(a_list)-1-i]<a_list[len(a_list)-2-i]:\n",
    "                temp=a_list[len(a_list)-1-i]\n",
    "                a_list[len(a_list)-1-i]=a_list[len(a_list)-2-i]\n",
    "                a_list[len(a_list)-2-i]=temp\n",
    "                flag=True\n",
    "        if not flag:\n",
    "            return a_list"
   ]
  },
  {
   "cell_type": "markdown",
   "id": "004d898f",
   "metadata": {},
   "source": [
    "14) Протестировать алгоритм \"пузырек\" и \"камешек-пузырек\" на разных типах списков."
   ]
  },
  {
   "cell_type": "code",
   "execution_count": 57,
   "id": "ecd18daf",
   "metadata": {},
   "outputs": [
    {
     "name": "stdout",
     "output_type": "stream",
     "text": [
      "[1, 2, 3, 4, 5, 6, 7, 8, 9, 10, 11, 12, 13, 14, 15]\n",
      "[15, 14, 13, 12, 11, 10, 9, 8, 7, 6, 5, 4, 3, 2, 1]\n",
      "[86, 27, 36, 16, 12, 57, 27, 33, 97, 86, 14, 4, 35, 99, 17]\n",
      "[1, 2, 3, 13, 5, 6, 7, 8, 9, 10, 11, 12, 15, 14, 4]\n"
     ]
    }
   ],
   "source": [
    "list1=list_ascending(15)\n",
    "print(list1)\n",
    "list2=list_descending(15)\n",
    "print(list2)\n",
    "list3=list_random(15)\n",
    "print(list3)\n",
    "list4=list_almost_sorted(15)\n",
    "print(list4)"
   ]
  },
  {
   "cell_type": "code",
   "execution_count": 58,
   "id": "718ed150",
   "metadata": {},
   "outputs": [
    {
     "name": "stdout",
     "output_type": "stream",
     "text": [
      "[1, 2, 3, 4, 5, 6, 7, 8, 9, 10, 11, 12, 13, 14, 15]\n",
      "[1, 2, 3, 4, 5, 6, 7, 8, 9, 10, 11, 12, 13, 14, 15]\n"
     ]
    }
   ],
   "source": [
    "print(bubble_sort(list1))\n",
    "print(stone_bubble_sort(list1))"
   ]
  },
  {
   "cell_type": "code",
   "execution_count": 59,
   "id": "d494a4f5",
   "metadata": {},
   "outputs": [
    {
     "name": "stdout",
     "output_type": "stream",
     "text": [
      "[1, 2, 3, 4, 5, 6, 7, 8, 9, 10, 11, 12, 13, 14, 15]\n",
      "[1, 2, 3, 4, 5, 6, 7, 8, 9, 10, 11, 12, 13, 14, 15]\n"
     ]
    }
   ],
   "source": [
    "print(bubble_sort(list2))\n",
    "print(stone_bubble_sort(list2))"
   ]
  },
  {
   "cell_type": "code",
   "execution_count": 60,
   "id": "8c39cde7",
   "metadata": {},
   "outputs": [
    {
     "name": "stdout",
     "output_type": "stream",
     "text": [
      "[4, 12, 14, 16, 17, 27, 27, 33, 35, 36, 57, 86, 86, 97, 99]\n",
      "[4, 12, 14, 16, 17, 27, 27, 33, 35, 36, 57, 86, 86, 97, 99]\n"
     ]
    }
   ],
   "source": [
    "print(bubble_sort(list3))\n",
    "print(stone_bubble_sort(list3))"
   ]
  },
  {
   "cell_type": "code",
   "execution_count": 61,
   "id": "83705a7f",
   "metadata": {},
   "outputs": [
    {
     "name": "stdout",
     "output_type": "stream",
     "text": [
      "[1, 2, 3, 4, 5, 6, 7, 8, 9, 10, 11, 12, 13, 14, 15]\n",
      "[1, 2, 3, 4, 5, 6, 7, 8, 9, 10, 11, 12, 13, 14, 15]\n"
     ]
    }
   ],
   "source": [
    "print(bubble_sort(list4))\n",
    "print(stone_bubble_sort(list4))"
   ]
  },
  {
   "cell_type": "markdown",
   "id": "772a8818",
   "metadata": {},
   "source": [
    "15) Реализовать модификацию сортировки выбором на основе выбора из подсписков (описанного в лекции). Протестировать алгоритм."
   ]
  },
  {
   "cell_type": "markdown",
   "id": "4fd2a22f",
   "metadata": {},
   "source": [
    "Естественной идеей улучшения алгоритма выбором является идея использования информации, полученной при сравнении элементов при поиске максимального (минимального) элемента на предыдущих шагах.\n",
    "\n",
    "В общем случае, если n – точный квадрат, можно разделить массив на  √𝑛 групп по  √𝑛 лементов и находить максимальный элемент в каждой подгруппе. Любой выбор, кроме первого, требует не более чем  √𝑛−2 сравнений внутри группы ранее выбранного элемента плюс  √𝑛−1 сравнений среди \"лидеров групп“. Этот метод получил название квадратичный выбор общее время его работы составляет порядка  𝑂(√𝑛𝑛) что существенно лучше, чем  𝑂(𝑛2)."
   ]
  },
  {
   "cell_type": "code",
   "execution_count": 19,
   "id": "8f2c293c",
   "metadata": {},
   "outputs": [],
   "source": [
    "def modified_selection_sort(arr):\n",
    "    sublist_size = 3  # Размер подсписка\n",
    "    comparisons = 0  \n",
    "    swaps = 0  \n",
    "    n = len(arr) \n",
    "\n",
    "    for i in range(0, n, sublist_size):  # Проходим по списку с шагом равным размеру подсписка\n",
    "        end = min(i + sublist_size, n)  # Определение конца подсписка, чтобы не выйти за края списка \n",
    "        for j in range(i, end):  # Проходим по элементам подсписка до предпоследнего\n",
    "            min_index = j  \n",
    "            for k in range(j + 1, end - 1):  # Проходим по элементам подсписка от следующего элемента до конца \n",
    "                comparisons += 1  \n",
    "                if arr[k] < arr[min_index]:  \n",
    "                    min_index = k  # Обновляем минимальный индекс\n",
    "            if min_index != j:  # Если найденный минимальный элемент не находится на текущей позиции\n",
    "                arr[j], arr[min_index] = arr[min_index], arr[j]  # Меняем текущий элемент с минимальным\n",
    "                swaps += 1  \n",
    "\n",
    "    return comparisons, swaps\n"
   ]
  },
  {
   "cell_type": "code",
   "execution_count": 20,
   "id": "8dac3fe5",
   "metadata": {},
   "outputs": [
    {
     "name": "stdout",
     "output_type": "stream",
     "text": [
      "Тестирование алгоритма сортировки выбором на основе выбора из подсписков :\n",
      "==================================================\n",
      "{'Для длины списка 10': {'Минимальное количество сравнений': 3, 'Среднее количество сравнений': 3, 'Максимальное количество сравнений': 3, 'Минимальное количество перестановок': 0, 'Среднее количество перестановок': 1.3, 'Максимальное количество перестановок': 3}, 'Для длины списка 100': {'Минимальное количество сравнений': 33, 'Среднее количество сравнений': 33, 'Максимальное количество сравнений': 33, 'Минимальное количество перестановок': 13, 'Среднее количество перестановок': 16.5, 'Максимальное количество перестановок': 21}, 'Для длины списка 1000': {'Минимальное количество сравнений': 333, 'Среднее количество сравнений': 333, 'Максимальное количество сравнений': 333, 'Минимальное количество перестановок': 160, 'Среднее количество перестановок': 167.4, 'Максимальное количество перестановок': 179}}\n"
     ]
    }
   ],
   "source": [
    "print(\"Тестирование алгоритма сортировки выбором на основе выбора из подсписков :\")\n",
    "print(\"=\" * 50)\n",
    "results = test_sort(modified_selection_sort, list_random, repetitions, list_lengths)\n",
    "print(results)"
   ]
  },
  {
   "cell_type": "markdown",
   "id": "fbe740bf",
   "metadata": {},
   "source": [
    "\n",
    "16) Реализовать быструю сортировку с возможностью подсчета операций. Сравнить производительность алгоритма на случайных и упорядоченных (и почти упорядоченных) данных."
   ]
  },
  {
   "cell_type": "code",
   "execution_count": 21,
   "id": "73e2c35a",
   "metadata": {},
   "outputs": [],
   "source": [
    "def quick_sort(arr):\n",
    "    comparisons = 0\n",
    "    swaps = 0\n",
    "\n",
    "    stack = [(0, len(arr) - 1)]\n",
    "\n",
    "    while stack:\n",
    "        low, high = stack.pop()\n",
    "        pivot_index = random.randint(low, high)\n",
    "        pivot = arr[pivot_index]\n",
    "        arr[pivot_index], arr[high] = arr[high], arr[pivot_index]  # перемещаем опорный элемент в конец\n",
    "        i = low - 1\n",
    "        for j in range(low, high):\n",
    "            comparisons += 1\n",
    "            if arr[j] < pivot:\n",
    "                i += 1\n",
    "                arr[i], arr[j] = arr[j], arr[i]\n",
    "                swaps += 1\n",
    "        arr[i + 1], arr[high] = arr[high], arr[i + 1]\n",
    "        swaps += 1\n",
    "\n",
    "        # Добавляем новые интервалы для сортировки в стек\n",
    "        if low < i:\n",
    "            stack.append((low, i))\n",
    "        if i + 2 < high:\n",
    "            stack.append((i + 2, high))\n",
    "\n",
    "    return comparisons, swaps"
   ]
  },
  {
   "cell_type": "code",
   "execution_count": 27,
   "id": "ee2a1f4c",
   "metadata": {},
   "outputs": [
    {
     "name": "stdout",
     "output_type": "stream",
     "text": [
      "Сравнение производительности на случайных данных:\n",
      "==================================================\n",
      "Длина списка: 10, Время выполнения: 0.000000 сек\n",
      "Длина списка: 100, Время выполнения: 0.000000 сек\n",
      "Длина списка: 1000, Время выполнения: 0.010396 сек\n",
      "==================================================\n",
      "Сравнение производительности на упорядоченных данных:\n",
      "==================================================\n",
      "Длина списка: 10, Время выполнения: 0.000000 сек\n",
      "Длина списка: 100, Время выполнения: 0.000000 сек\n",
      "Длина списка: 1000, Время выполнения: 0.005539 сек\n",
      "==================================================\n",
      "Сравнение производительности на почти упорядоченных данных:\n",
      "==================================================\n",
      "Длина списка: 10, Время выполнения: 0.000000 сек\n",
      "Длина списка: 100, Время выполнения: 0.000000 сек\n",
      "Длина списка: 1000, Время выполнения: 0.005000 сек\n",
      "==================================================\n"
     ]
    }
   ],
   "source": [
    "import time \n",
    "\n",
    "# Функция для замера времени выполнения сортировки\n",
    "def measure_sorting_time(sort_algorithm, arr):\n",
    "    start_time = time.time() \n",
    "    sort_algorithm(arr)  # Выполняем алгоритм сортировки\n",
    "    end_time = time.time()  \n",
    "    return end_time - start_time  \n",
    "\n",
    "# Сравнение производительности на случайных данных\n",
    "print(\"Сравнение производительности на случайных данных:\")\n",
    "print(\"=\" * 50)\n",
    "for length in list_lengths:\n",
    "    lst = list_random(length)  # Генерируем случайный список заданной длины\n",
    "    time_taken = measure_sorting_time(quick_sort, lst.copy())  # Измеряем время выполнения алгоритма быстрой сортировки\n",
    "    # lst.copy(), чтобы не изменять исходный список. \n",
    "    print(f\"Длина списка: {length}, Время выполнения: {time_taken:.6f} сек\")  \n",
    "print(\"=\" * 50)\n",
    "\n",
    "# Сравнение производительности на упорядоченных данных\n",
    "print(\"Сравнение производительности на упорядоченных данных:\")\n",
    "print(\"=\" * 50)\n",
    "for length in list_lengths:\n",
    "    lst = list_ascending(length)  # Генерируем упорядоченный список заданной длины\n",
    "    time_taken = measure_sorting_time(quick_sort, lst.copy())  # Измеряем время выполнения алгоритма быстрой сортировки\n",
    "    print(f\"Длина списка: {length}, Время выполнения: {time_taken:.6f} сек\")  \n",
    "    # time_taken:.6f означает вывод секунд с точностью до 6 знаков после запятой (например, 0.000001 сек)\n",
    "print(\"=\" * 50)\n",
    "\n",
    "# Сравнение производительности на почти упорядоченных данных\n",
    "print(\"Сравнение производительности на почти упорядоченных данных:\")\n",
    "print(\"=\" * 50)\n",
    "for length in list_lengths:\n",
    "    lst = list_almost_sorted(length)  # Генерируем почти упорядоченный список заданной длины\n",
    "    time_taken = measure_sorting_time(quick_sort, lst.copy())  # Измеряем время выполнения алгоритма быстрой сортировки\n",
    "    print(f\"Длина списка: {length}, Время выполнения: {time_taken:.6f} сек\")  \n",
    "print(\"=\" * 50)"
   ]
  },
  {
   "cell_type": "markdown",
   "id": "0553a39f",
   "metadata": {},
   "source": [
    "17) Улучшить работу быстрой сортировки на упорядоченных и почти упорядоченных за счет изменения алгоритма выбора элемента для разделения массива."
   ]
  },
  {
   "cell_type": "code",
   "execution_count": 31,
   "id": "077eeb47",
   "metadata": {},
   "outputs": [],
   "source": [
    "def quick_sort(arr):\n",
    "    comparisons = 0\n",
    "    swaps = 0\n",
    "\n",
    "    stack = [(0, len(arr) - 1)]\n",
    "\n",
    "    while stack:\n",
    "        low, high = stack.pop()\n",
    "        pivot_index = random.randint(low, high)\n",
    "        pivot = arr[pivot_index]\n",
    "        arr[pivot_index], arr[high] = arr[high], arr[pivot_index]  # перемещаем опорный элемент в конец\n",
    "        i = low - 1\n",
    "        for j in range(low, high):\n",
    "            comparisons += 1\n",
    "            if arr[j] < pivot:\n",
    "                i += 1\n",
    "                arr[i], arr[j] = arr[j], arr[i]\n",
    "                swaps += 1\n",
    "        arr[i + 1], arr[high] = arr[high], arr[i + 1]\n",
    "        swaps += 1\n",
    "\n",
    "        # Добавляем новые интервалы для сортировки в стек\n",
    "        if low < i:\n",
    "            stack.append((low, i))\n",
    "        if i + 2 < high:\n",
    "            stack.append((i + 2, high))\n",
    "\n",
    "    return comparisons, swaps"
   ]
  },
  {
   "cell_type": "code",
   "execution_count": 32,
   "id": "c3843ec5",
   "metadata": {},
   "outputs": [
    {
     "name": "stdout",
     "output_type": "stream",
     "text": [
      "Сравнение производительности на случайных данных:\n",
      "==================================================\n",
      "Длина списка: 10, Время выполнения: 0.000000 сек\n",
      "Длина списка: 100, Время выполнения: 0.000000 сек\n",
      "Длина списка: 1000, Время выполнения: 0.005749 сек\n",
      "==================================================\n",
      "Сравнение производительности на упорядоченных данных:\n",
      "==================================================\n",
      "Длина списка: 10, Время выполнения: 0.000000 сек\n",
      "Длина списка: 100, Время выполнения: 0.000392 сек\n",
      "Длина списка: 1000, Время выполнения: 0.004630 сек\n",
      "==================================================\n",
      "Сравнение производительности на почти упорядоченных данных:\n",
      "==================================================\n",
      "Длина списка: 10, Время выполнения: 0.000000 сек\n",
      "Длина списка: 100, Время выполнения: 0.001030 сек\n",
      "Длина списка: 1000, Время выполнения: 0.003326 сек\n",
      "==================================================\n"
     ]
    }
   ],
   "source": [
    "# Сравнение производительности на случайных данных\n",
    "print(\"Сравнение производительности на случайных данных:\")\n",
    "print(\"=\" * 50)\n",
    "for length in list_lengths:\n",
    "    lst = list_random(length)  # Генерируем случайный список заданной длины\n",
    "    time_taken = measure_sorting_time(quick_sort, lst.copy())  # Измеряем время выполнения алгоритма быстрой сортировки\n",
    "    # lst.copy(), чтобы не изменять исходный список. \n",
    "    print(f\"Длина списка: {length}, Время выполнения: {time_taken:.6f} сек\")  \n",
    "print(\"=\" * 50)\n",
    "\n",
    "# Сравнение производительности на упорядоченных данных\n",
    "print(\"Сравнение производительности на упорядоченных данных:\")\n",
    "print(\"=\" * 50)\n",
    "for length in list_lengths:\n",
    "    lst = list_ascending(length)  # Генерируем упорядоченный список заданной длины\n",
    "    time_taken = measure_sorting_time(quick_sort, lst.copy())  # Измеряем время выполнения алгоритма быстрой сортировки\n",
    "    print(f\"Длина списка: {length}, Время выполнения: {time_taken:.6f} сек\")  \n",
    "    # time_taken:.6f означает вывод секунд с точностью до 6 знаков после запятой (например, 0.000001 сек)\n",
    "print(\"=\" * 50)\n",
    "\n",
    "# Сравнение производительности на почти упорядоченных данных\n",
    "print(\"Сравнение производительности на почти упорядоченных данных:\")\n",
    "print(\"=\" * 50)\n",
    "for length in list_lengths:\n",
    "    lst = list_almost_sorted(length)  # Генерируем почти упорядоченный список заданной длины\n",
    "    time_taken = measure_sorting_time(quick_sort, lst.copy())  # Измеряем время выполнения алгоритма быстрой сортировки\n",
    "    print(f\"Длина списка: {length}, Время выполнения: {time_taken:.6f} сек\")  \n",
    "print(\"=\" * 50)"
   ]
  },
  {
   "cell_type": "markdown",
   "id": "c663955a",
   "metadata": {},
   "source": [
    "18) Реализовать эффективный алгоритм получения из большого количества отсортированных списков одного отсортированного списка."
   ]
  },
  {
   "cell_type": "code",
   "execution_count": 169,
   "id": "88f7666a",
   "metadata": {},
   "outputs": [],
   "source": [
    "def merge_sorted_lists(lists):\n",
    "    res = []\n",
    "    while any(lists):\n",
    "        # нахождение минимального элемента среди 1ых элементов списков,\n",
    "        # если список не пустой\n",
    "        minn = min([i[0] for i in lists if i])\n",
    "        for listt in lists:\n",
    "            if listt and listt[0] == minn:\n",
    "                res.append(listt.pop(0))\n",
    "    return res"
   ]
  },
  {
   "cell_type": "code",
   "execution_count": 170,
   "id": "6a4f9370",
   "metadata": {},
   "outputs": [
    {
     "data": {
      "text/plain": [
       "[0, 1, 2, 3, 4, 5, 6, 7, 8, 9, 10, 11]"
      ]
     },
     "execution_count": 170,
     "metadata": {},
     "output_type": "execute_result"
    }
   ],
   "source": [
    "list1 = [1, 3, 5, 7]\n",
    "list2 = [2, 4, 6, 8]\n",
    "list3 = [0, 9, 10, 11]\n",
    "merge_sorted_lists([list1, list2, list3])"
   ]
  },
  {
   "cell_type": "markdown",
   "id": "d35fb0b6",
   "metadata": {},
   "source": [
    "19) Модифицировать последовательность длин шагов в сортировке Шелла.\n",
    "На 2[𝑛/2𝑘+1]+1\n"
   ]
  },
  {
   "cell_type": "code",
   "execution_count": 33,
   "id": "19deda24",
   "metadata": {},
   "outputs": [],
   "source": [
    "def shell_sort_modified(lst):\n",
    "    n = len(lst)  \n",
    "    k = 1  \n",
    "    b = 0  # b - флаг того, что gap достигло единицы \n",
    "    gap = 2 * (n // (2 ** (k + 1))) + 1  # gap - шаг в сортировке Шелла. Формула из условия\n",
    "    while gap > 0:  # Пока промежуток существует\n",
    "        for i in range(gap, n):  # Проходим по элементам списка, начиная с gap\n",
    "            temp = lst[i]  # Сохраняем текущий элемент списка\n",
    "            j = i  # Запоминаем текущий индекс\n",
    "            # Сортировка вставками внутри подсписков с шагом gap\n",
    "            while j >= gap and lst[j - gap] > temp:  # Пока элементы внутри подсписков больше текущего элемента\n",
    "                lst[j] = lst[j - gap]  # Перемещаем элементы внутри подсписков\n",
    "                j -= gap  # Двигаемся по подсписку с шагом gap\n",
    "            lst[j] = temp  # Сохраняем текущий элемент в результирующий список\n",
    "        k += 1  # Увеличиваем значение k\n",
    "        gap = 2 * (n // (2 ** (k + 1))) + 1  # Вычисляем новый размер промежутка\n",
    "        if gap == 1:  # Если размер промежутка равен 1\n",
    "            if b == 0:  # Если флаг еще не сломан\n",
    "                b += 1  # Ломаем флаг\n",
    "            else:  \n",
    "                break  # Иначе не ломаем\n",
    "    return lst  # Возвращаем отсортированный список"
   ]
  },
  {
   "cell_type": "code",
   "execution_count": 34,
   "id": "122e8e05",
   "metadata": {},
   "outputs": [
    {
     "name": "stdout",
     "output_type": "stream",
     "text": [
      "Изначальный список со случайными значениями: [55, 54, 79, 70, 68, 64, 92, 65, 12, 98]\n",
      "Отсортированный список: [12, 54, 55, 64, 65, 68, 70, 79, 92, 98]\n"
     ]
    }
   ],
   "source": [
    "primer_list = list_random(10)\n",
    "print(f'Изначальный список со случайными значениями: {primer_list}')\n",
    "sorted_arr = shell_sort_modified(primer_list)  \n",
    "print(f'Отсортированный список: {sorted_arr}')  "
   ]
  },
  {
   "cell_type": "code",
   "execution_count": null,
   "id": "d9d57c20",
   "metadata": {},
   "outputs": [],
   "source": []
  }
 ],
 "metadata": {
  "kernelspec": {
   "display_name": "Python 3 (ipykernel)",
   "language": "python",
   "name": "python3"
  },
  "language_info": {
   "codemirror_mode": {
    "name": "ipython",
    "version": 3
   },
   "file_extension": ".py",
   "mimetype": "text/x-python",
   "name": "python",
   "nbconvert_exporter": "python",
   "pygments_lexer": "ipython3",
   "version": "3.11.5"
  }
 },
 "nbformat": 4,
 "nbformat_minor": 5
}
