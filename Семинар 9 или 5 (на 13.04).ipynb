{
 "cells": [
  {
   "cell_type": "code",
   "execution_count": 1,
   "id": "f2ece6f9",
   "metadata": {},
   "outputs": [],
   "source": [
    "l1 = ['1', '123', '123', '12', '1', '123']\n",
    "l2 = [2, 4, -2, -3, 0 , 11 , 3 -1]\n",
    "\n",
    "d4 = {1: 10, 2: 20, 3: 30, 4: 40, 5: 50, 6: 60}\n",
    "d5 = {'a': 3, 'b': 4, 'c': 5, 'd': 6, 'e': 7, 'f': 8, 'g': 9}\n",
    "d6 = {'e': 20, 'f': 21, 'g': 22, 'h': 23, 'i': 24, 'j': 25, 'k': 26, 'l': 27}"
   ]
  },
  {
   "cell_type": "markdown",
   "id": "3e9d72e7",
   "metadata": {},
   "source": [
    "4.13) Используя список l1 создать список, в котором каждый элемент списка l1 будет заменен значением длинны строки соответствующего элемента в списке l1. Использовать генераторы, решить задачу в одну строку."
   ]
  },
  {
   "cell_type": "code",
   "execution_count": 2,
   "id": "8d0f5bee",
   "metadata": {},
   "outputs": [
    {
     "data": {
      "text/plain": [
       "[1, 3, 3, 2, 1, 3]"
      ]
     },
     "execution_count": 2,
     "metadata": {},
     "output_type": "execute_result"
    }
   ],
   "source": [
    "l1_len = [len(i) for i in l1]\n",
    "l1_len"
   ]
  },
  {
   "cell_type": "markdown",
   "id": "ec070fa6",
   "metadata": {},
   "source": [
    "4.14) Подсчитать количество строк в списке l1, длина которых больше 2х. Использовать генераторы, решить задачу в одну строку."
   ]
  },
  {
   "cell_type": "code",
   "execution_count": 7,
   "id": "014c76fa",
   "metadata": {},
   "outputs": [
    {
     "data": {
      "text/plain": [
       "3"
      ]
     },
     "execution_count": 7,
     "metadata": {},
     "output_type": "execute_result"
    }
   ],
   "source": [
    "count_len1 = sum(1 for i in l1 if len(i) > 2)\n",
    "count_len1"
   ]
  },
  {
   "cell_type": "markdown",
   "id": "8d46fef3",
   "metadata": {},
   "source": [
    "4.15) Просуммировать произведение ключей на значения словаря d4."
   ]
  },
  {
   "cell_type": "code",
   "execution_count": 34,
   "id": "adc469a6",
   "metadata": {},
   "outputs": [
    {
     "data": {
      "text/plain": [
       "{1: 10, 2: 20, 3: 30, 4: 40, 5: 50, 6: 60}"
      ]
     },
     "execution_count": 34,
     "metadata": {},
     "output_type": "execute_result"
    }
   ],
   "source": [
    "d4"
   ]
  },
  {
   "cell_type": "code",
   "execution_count": 11,
   "id": "1ce0bc44",
   "metadata": {},
   "outputs": [
    {
     "data": {
      "text/plain": [
       "910"
      ]
     },
     "execution_count": 11,
     "metadata": {},
     "output_type": "execute_result"
    }
   ],
   "source": [
    "sum_d4 = sum(key * value for key, value in d4.items())\n",
    "sum_d4"
   ]
  },
  {
   "cell_type": "markdown",
   "id": "9ba3cd0b",
   "metadata": {},
   "source": [
    "4.16) На базе словаря d6 составить словарь d7 в котором нет пар ключ-значение с ключами, встречающимися в словаре d5. Использовать генераторы, решить задачу в одну строку."
   ]
  },
  {
   "cell_type": "code",
   "execution_count": 23,
   "id": "287d268a",
   "metadata": {},
   "outputs": [
    {
     "data": {
      "text/plain": [
       "{'e': 20, 'f': 21, 'g': 22, 'h': 23, 'i': 24, 'j': 25, 'k': 26, 'l': 27}"
      ]
     },
     "execution_count": 23,
     "metadata": {},
     "output_type": "execute_result"
    }
   ],
   "source": [
    "d6"
   ]
  },
  {
   "cell_type": "code",
   "execution_count": 24,
   "id": "cb8de5e0",
   "metadata": {},
   "outputs": [
    {
     "data": {
      "text/plain": [
       "{'a': 3, 'b': 4, 'c': 5, 'd': 6, 'e': 7, 'f': 8, 'g': 9}"
      ]
     },
     "execution_count": 24,
     "metadata": {},
     "output_type": "execute_result"
    }
   ],
   "source": [
    "d5"
   ]
  },
  {
   "cell_type": "code",
   "execution_count": 21,
   "id": "a77fb5b2",
   "metadata": {},
   "outputs": [
    {
     "data": {
      "text/plain": [
       "{'h': 23, 'i': 24, 'j': 25, 'k': 26, 'l': 27}"
      ]
     },
     "execution_count": 21,
     "metadata": {},
     "output_type": "execute_result"
    }
   ],
   "source": [
    "d7 = dict((key, value) for key, value in d6.items() if key not in d5)\n",
    "d7"
   ]
  },
  {
   "cell_type": "markdown",
   "id": "247f4c9b",
   "metadata": {},
   "source": [
    "4.17) Создать список, в котором все числа списка l2 умножены на их номер в списке, остальные элементы сохранены на своих местах. Использовать генераторы, решить задачу в одну строку."
   ]
  },
  {
   "cell_type": "code",
   "execution_count": 27,
   "id": "3e41377c",
   "metadata": {},
   "outputs": [
    {
     "data": {
      "text/plain": [
       "[2, 4, -2, -3, 0, 11, 2]"
      ]
     },
     "execution_count": 27,
     "metadata": {},
     "output_type": "execute_result"
    }
   ],
   "source": [
    "l2"
   ]
  },
  {
   "cell_type": "code",
   "execution_count": 33,
   "id": "0ed5ca4e",
   "metadata": {},
   "outputs": [
    {
     "data": {
      "text/plain": [
       "[0, 4, -4, -9, 0, 55, 12]"
      ]
     },
     "execution_count": 33,
     "metadata": {},
     "output_type": "execute_result"
    }
   ],
   "source": [
    "l2_mult = [i * j for i, j in zip(l2, range(len(l2))) if type(l2[j]) == int]\n",
    "l2_mult"
   ]
  },
  {
   "cell_type": "markdown",
   "id": "6bddef88",
   "metadata": {},
   "source": [
    "4.18) Создать список, в котором все отрицательные числа списка l2 исключены, остальные элементы сохранены на своих местах. Использовать генераторы, решить задачу в одну строку."
   ]
  },
  {
   "cell_type": "code",
   "execution_count": 35,
   "id": "86fa7b0b",
   "metadata": {},
   "outputs": [
    {
     "data": {
      "text/plain": [
       "[2, 4, -2, -3, 0, 11, 2]"
      ]
     },
     "execution_count": 35,
     "metadata": {},
     "output_type": "execute_result"
    }
   ],
   "source": [
    "l2"
   ]
  },
  {
   "cell_type": "code",
   "execution_count": 37,
   "id": "b59670b1",
   "metadata": {},
   "outputs": [
    {
     "data": {
      "text/plain": [
       "[2, 4, 0, 11, 2]"
      ]
     },
     "execution_count": 37,
     "metadata": {},
     "output_type": "execute_result"
    }
   ],
   "source": [
    "l2_pos = [i for i in l2 if i >= 0]\n",
    "l2_pos"
   ]
  },
  {
   "cell_type": "markdown",
   "id": "b53b29e4",
   "metadata": {},
   "source": [
    "4.19) Создать список, в котором все отрицательные числа списка l2 заменены на их номер в списке, остальные элементы сохранены на своих местах. Использовать генераторы и тернарный оператор, решить задачу в одну строку."
   ]
  },
  {
   "cell_type": "code",
   "execution_count": 38,
   "id": "cb428ee4",
   "metadata": {},
   "outputs": [
    {
     "data": {
      "text/plain": [
       "[2, 4, -2, -3, 0, 11, 2]"
      ]
     },
     "execution_count": 38,
     "metadata": {},
     "output_type": "execute_result"
    }
   ],
   "source": [
    "l2"
   ]
  },
  {
   "cell_type": "code",
   "execution_count": 39,
   "id": "cb893b18",
   "metadata": {},
   "outputs": [
    {
     "data": {
      "text/plain": [
       "[2, 4, 2, 3, 0, 11, 2]"
      ]
     },
     "execution_count": 39,
     "metadata": {},
     "output_type": "execute_result"
    }
   ],
   "source": [
    "l2_repl = [i if i >= 0 else j for i, j in zip(l2, range(len(l2)))]\n",
    "l2_repl"
   ]
  },
  {
   "cell_type": "markdown",
   "id": "63f8e3c9",
   "metadata": {},
   "source": [
    "5.1) Написать задокументированную функцию умножения двух чисел. Для каких типов данная функция будет возвращать практически ценный результат? Написать примеры использования этой функции."
   ]
  },
  {
   "cell_type": "code",
   "execution_count": 52,
   "id": "68d56f8e",
   "metadata": {},
   "outputs": [],
   "source": [
    "def multiply(x, y):\n",
    "    \"\"\"\n",
    "    Возвращает произведение двух чисел.\n",
    "\n",
    "    Параметры:\n",
    "    x (int, float): Первое число.\n",
    "    y (int, float): Второе число.\n",
    "\n",
    "    Возвращаемое значение:\n",
    "    int, float: Результат умножения x на y.\n",
    "    \"\"\"\n",
    "    return x * y\n"
   ]
  },
  {
   "cell_type": "code",
   "execution_count": 43,
   "id": "5d6b457a",
   "metadata": {},
   "outputs": [
    {
     "name": "stdout",
     "output_type": "stream",
     "text": [
      "Help on function multiply in module __main__:\n",
      "\n",
      "multiply(x, y)\n",
      "    Возвращает произведение двух чисел.\n",
      "    \n",
      "    Параметры:\n",
      "    x (int, float): Первое число.\n",
      "    y (int, float): Второе число.\n",
      "    \n",
      "    Возвращаемое значение:\n",
      "    int, float: Результат умножения x на y.\n",
      "\n"
     ]
    }
   ],
   "source": [
    "help(multiply)"
   ]
  },
  {
   "cell_type": "code",
   "execution_count": 44,
   "id": "13e5b3c2",
   "metadata": {},
   "outputs": [
    {
     "data": {
      "text/plain": [
       "15.6"
      ]
     },
     "execution_count": 44,
     "metadata": {},
     "output_type": "execute_result"
    }
   ],
   "source": [
    "multiply(7.8, 2)"
   ]
  },
  {
   "cell_type": "code",
   "execution_count": 45,
   "id": "c642cbe7",
   "metadata": {},
   "outputs": [
    {
     "data": {
      "text/plain": [
       "11832"
      ]
     },
     "execution_count": 45,
     "metadata": {},
     "output_type": "execute_result"
    }
   ],
   "source": [
    "multiply(12, 986)"
   ]
  },
  {
   "cell_type": "markdown",
   "id": "1dc401c4",
   "metadata": {},
   "source": [
    "5.2) Написать функцию умножения принимающую от одного до трех параметров. Написать примеры использования этой функции с разным количеством параметров."
   ]
  },
  {
   "cell_type": "code",
   "execution_count": 59,
   "id": "81c1f504",
   "metadata": {},
   "outputs": [],
   "source": [
    "def multiply_2(x, y=1, z=1):\n",
    "    return x * y * z\n"
   ]
  },
  {
   "cell_type": "code",
   "execution_count": 60,
   "id": "2bfda217",
   "metadata": {},
   "outputs": [
    {
     "data": {
      "text/plain": [
       "23"
      ]
     },
     "execution_count": 60,
     "metadata": {},
     "output_type": "execute_result"
    }
   ],
   "source": [
    "multiply_2(23)"
   ]
  },
  {
   "cell_type": "code",
   "execution_count": 61,
   "id": "410c5dfa",
   "metadata": {},
   "outputs": [
    {
     "data": {
      "text/plain": [
       "26.52"
      ]
     },
     "execution_count": 61,
     "metadata": {},
     "output_type": "execute_result"
    }
   ],
   "source": [
    "multiply_2(3.4, 7.8)"
   ]
  },
  {
   "cell_type": "code",
   "execution_count": 62,
   "id": "c1fe5d4f",
   "metadata": {},
   "outputs": [
    {
     "data": {
      "text/plain": [
       "1253.98"
      ]
     },
     "execution_count": 62,
     "metadata": {},
     "output_type": "execute_result"
    }
   ],
   "source": [
    "multiply_2(2, 6.89, 91)"
   ]
  },
  {
   "cell_type": "markdown",
   "id": "17ec3290",
   "metadata": {},
   "source": [
    "5.3) Функцию из задания 2 вызвать с приведенными ниже аргументами. Для случая a4 выбрать 3 первых и 3 последних значения.\n",
    "\n",
    "a1 = (15, 10 ,5)\n",
    "\n",
    "a2 = (3, 1)\n",
    "\n",
    "a3 = [2, 35, 55]\n",
    "\n",
    "a4 = (5, 10 ,15, 20)"
   ]
  },
  {
   "cell_type": "code",
   "execution_count": 63,
   "id": "ad1a5078",
   "metadata": {},
   "outputs": [],
   "source": [
    "a1 = (15, 10 ,5)\n",
    "\n",
    "a2 = (3, 1)\n",
    "\n",
    "a3 = [2, 35, 55]\n",
    "\n",
    "a4 = (5, 10 ,15, 20)"
   ]
  },
  {
   "cell_type": "code",
   "execution_count": 64,
   "id": "85fd3b59",
   "metadata": {},
   "outputs": [
    {
     "data": {
      "text/plain": [
       "750"
      ]
     },
     "execution_count": 64,
     "metadata": {},
     "output_type": "execute_result"
    }
   ],
   "source": [
    "multiply_2(*a1)"
   ]
  },
  {
   "cell_type": "code",
   "execution_count": 65,
   "id": "c1ac0e1c",
   "metadata": {},
   "outputs": [
    {
     "data": {
      "text/plain": [
       "3"
      ]
     },
     "execution_count": 65,
     "metadata": {},
     "output_type": "execute_result"
    }
   ],
   "source": [
    "multiply_2(*a2)"
   ]
  },
  {
   "cell_type": "code",
   "execution_count": 66,
   "id": "8e09dc6c",
   "metadata": {},
   "outputs": [
    {
     "data": {
      "text/plain": [
       "3850"
      ]
     },
     "execution_count": 66,
     "metadata": {},
     "output_type": "execute_result"
    }
   ],
   "source": [
    "multiply_2(*a3)"
   ]
  },
  {
   "cell_type": "code",
   "execution_count": 68,
   "id": "91325da9",
   "metadata": {},
   "outputs": [
    {
     "data": {
      "text/plain": [
       "750"
      ]
     },
     "execution_count": 68,
     "metadata": {},
     "output_type": "execute_result"
    }
   ],
   "source": [
    "multiply_2(*a4[:3])"
   ]
  },
  {
   "cell_type": "code",
   "execution_count": 69,
   "id": "26e264b9",
   "metadata": {},
   "outputs": [
    {
     "data": {
      "text/plain": [
       "3000"
      ]
     },
     "execution_count": 69,
     "metadata": {},
     "output_type": "execute_result"
    }
   ],
   "source": [
    "multiply_2(*a4[-3:])"
   ]
  },
  {
   "cell_type": "markdown",
   "id": "0cd2c3dc",
   "metadata": {},
   "source": [
    "5.4) Реализовать функцию умножения, принимающую неограниченное количество значений. Написать примеры использования этой функции, в том числе с аргументами из задания 3."
   ]
  },
  {
   "cell_type": "code",
   "execution_count": 75,
   "id": "57af20c8",
   "metadata": {},
   "outputs": [],
   "source": [
    "def multiply_3(*args):\n",
    "    res = 1\n",
    "    for i in args:\n",
    "        res *= i\n",
    "    return res\n"
   ]
  },
  {
   "cell_type": "code",
   "execution_count": 76,
   "id": "26f767b4",
   "metadata": {},
   "outputs": [
    {
     "data": {
      "text/plain": [
       "750"
      ]
     },
     "execution_count": 76,
     "metadata": {},
     "output_type": "execute_result"
    }
   ],
   "source": [
    "multiply_3(*a1)"
   ]
  },
  {
   "cell_type": "code",
   "execution_count": 77,
   "id": "9a29b313",
   "metadata": {},
   "outputs": [
    {
     "data": {
      "text/plain": [
       "3"
      ]
     },
     "execution_count": 77,
     "metadata": {},
     "output_type": "execute_result"
    }
   ],
   "source": [
    "multiply_3(*a2)"
   ]
  },
  {
   "cell_type": "code",
   "execution_count": 78,
   "id": "26037a42",
   "metadata": {},
   "outputs": [
    {
     "data": {
      "text/plain": [
       "3850"
      ]
     },
     "execution_count": 78,
     "metadata": {},
     "output_type": "execute_result"
    }
   ],
   "source": [
    "multiply_3(*a3)"
   ]
  },
  {
   "cell_type": "code",
   "execution_count": 79,
   "id": "47b9b28d",
   "metadata": {},
   "outputs": [
    {
     "data": {
      "text/plain": [
       "15000"
      ]
     },
     "execution_count": 79,
     "metadata": {},
     "output_type": "execute_result"
    }
   ],
   "source": [
    "multiply_3(*a4)"
   ]
  },
  {
   "cell_type": "code",
   "execution_count": 80,
   "id": "8ef83213",
   "metadata": {},
   "outputs": [
    {
     "data": {
      "text/plain": [
       "38556.0"
      ]
     },
     "execution_count": 80,
     "metadata": {},
     "output_type": "execute_result"
    }
   ],
   "source": [
    "multiply_3(24, 4.25, 12, 3, 10.5)"
   ]
  },
  {
   "cell_type": "markdown",
   "id": "b5823bbc",
   "metadata": {},
   "source": [
    "5.5) Реализовать функции для выполнения четырех арифмитических операций преобразующих целые числа в целое число. Для двух заранее заданных целых чисел выполнить выбранную пользователем арифметическую операцию"
   ]
  },
  {
   "cell_type": "code",
   "execution_count": 1,
   "id": "a2a839df",
   "metadata": {},
   "outputs": [],
   "source": [
    "def add(x, y):\n",
    "    return x + y\n",
    "\n",
    "def substract(x, y):\n",
    "    return x - y\n",
    "\n",
    "def multiply(x, y):\n",
    "    return x * y\n",
    "\n",
    "def divide(x, y):\n",
    "    return x // y\n"
   ]
  },
  {
   "cell_type": "code",
   "execution_count": 2,
   "id": "4c56cf05",
   "metadata": {},
   "outputs": [
    {
     "name": "stdout",
     "output_type": "stream",
     "text": [
      "Введите операцию (+, -, *, /): *\n",
      "230\n"
     ]
    }
   ],
   "source": [
    "x = 23\n",
    "y = 10\n",
    "\n",
    "op = input('Введите операцию (+, -, *, /): ')\n",
    "if op == '+':\n",
    "    print(add(x, y))\n",
    "elif op == '-':\n",
    "    print(substract(x, y))\n",
    "elif op == '*':\n",
    "    print(multiply(x, y))\n",
    "elif op == '/':\n",
    "    print(divide(x, y))\n",
    "else:\n",
    "    raise ValueError('Неправильно введенная операция')\n",
    "    "
   ]
  },
  {
   "cell_type": "markdown",
   "id": "96ce11a6",
   "metadata": {},
   "source": [
    "5.6) Написать калькулятор для строковых выражений вида '<число> <операция> <число>', где <число> - целое число, например 113, <арифмитическая операция> - одна из операций +,-,*,/(деление нацело),%(остаток от деления),^(возведение в степень). Пример calc('13 - 5') -> 8"
   ]
  },
  {
   "cell_type": "code",
   "execution_count": 73,
   "id": "5213391e",
   "metadata": {},
   "outputs": [],
   "source": [
    "def calc(s):\n",
    "    s1 = s.split()\n",
    "    if s1[1] == '/':\n",
    "        return int(s1[0]) // int(s1[2])\n",
    "    elif s1[1] == '^':\n",
    "        return int(s1[0]) ** int(s1[2])\n",
    "    else:\n",
    "        # функция eval () анализирует строку, \n",
    "        # компилирует в байт-код и выполняет как выражение Python.\n",
    "        return eval(s)\n",
    "    "
   ]
  },
  {
   "cell_type": "code",
   "execution_count": 19,
   "id": "32487977",
   "metadata": {},
   "outputs": [
    {
     "data": {
      "text/plain": [
       "55"
      ]
     },
     "execution_count": 19,
     "metadata": {},
     "output_type": "execute_result"
    }
   ],
   "source": [
    "calc('45 + 10')"
   ]
  },
  {
   "cell_type": "code",
   "execution_count": 18,
   "id": "07780f6c",
   "metadata": {},
   "outputs": [
    {
     "data": {
      "text/plain": [
       "8"
      ]
     },
     "execution_count": 18,
     "metadata": {},
     "output_type": "execute_result"
    }
   ],
   "source": [
    "calc('13 - 5')"
   ]
  },
  {
   "cell_type": "code",
   "execution_count": 20,
   "id": "b2fedbc0",
   "metadata": {},
   "outputs": [
    {
     "data": {
      "text/plain": [
       "42"
      ]
     },
     "execution_count": 20,
     "metadata": {},
     "output_type": "execute_result"
    }
   ],
   "source": [
    "calc('14 * 3')"
   ]
  },
  {
   "cell_type": "code",
   "execution_count": 17,
   "id": "5737aa06",
   "metadata": {},
   "outputs": [
    {
     "data": {
      "text/plain": [
       "4"
      ]
     },
     "execution_count": 17,
     "metadata": {},
     "output_type": "execute_result"
    }
   ],
   "source": [
    "calc('23 / 5')"
   ]
  },
  {
   "cell_type": "code",
   "execution_count": 21,
   "id": "c6c486f9",
   "metadata": {},
   "outputs": [
    {
     "data": {
      "text/plain": [
       "3"
      ]
     },
     "execution_count": 21,
     "metadata": {},
     "output_type": "execute_result"
    }
   ],
   "source": [
    "calc('24 % 7')"
   ]
  },
  {
   "cell_type": "code",
   "execution_count": 22,
   "id": "5b8f8e9e",
   "metadata": {},
   "outputs": [
    {
     "data": {
      "text/plain": [
       "243"
      ]
     },
     "execution_count": 22,
     "metadata": {},
     "output_type": "execute_result"
    }
   ],
   "source": [
    "calc('3 ^ 5')"
   ]
  },
  {
   "cell_type": "markdown",
   "id": "dd202969",
   "metadata": {},
   "source": [
    "5.7) Реализовать функцию которая выводит на экран сообщение вида:\n",
    "'Автомобиль марки: BMW, модели: X5, цвета: белый, 2006 года выпуска, с пробегом: 215 000 км, c номерным знаком: X012АМ77, цена: 1 115 000 руб.'\n",
    "В функцию передаются именованные параметры изменяемой части сообщения, лубой из параметров может быть не задан пользователем функции и автоматически заменен на разумное сообщение в соответствующей части строки. Получить вывод текстового сообщения для словарей c1, c2.\n"
   ]
  },
  {
   "cell_type": "code",
   "execution_count": 30,
   "id": "c3da6909",
   "metadata": {},
   "outputs": [],
   "source": [
    "def car(**kwargs):\n",
    "    default = {'марка': 'неизвестно', 'модель': 'неизвестно', \n",
    "               'цвет': 'неизвестно', 'год выпуска': 'неизвестно', \n",
    "               'пробег': 'неизвестно', 'номерной знак': 'неизвестно',\n",
    "               'цена': 'неизвестно'}\n",
    "    info = {**default, **kwargs}\n",
    "    \n",
    "    print(f\"Автомобиль марки: {info['марка']}, модели: {info['модель']}, цвета: {info['цвет']},\", \n",
    "          f\"{info['год выпуска']} года выпуска, с пробегом: {info['пробег']} км,\",\n",
    "          f\"с номерным знаком: {info['номерной знак']}, цена: {info['цена']} руб.\")\n",
    "    "
   ]
  },
  {
   "cell_type": "code",
   "execution_count": 31,
   "id": "094b042b",
   "metadata": {},
   "outputs": [
    {
     "name": "stdout",
     "output_type": "stream",
     "text": [
      "Автомобиль марки: Nissan, модели: неизвестно, цвета: белый, 2010 года выпуска, с пробегом: неизвестно км, с номерным знаком: X000YZ, цена: неизвестно руб.\n"
     ]
    }
   ],
   "source": [
    "c1 = {'марка': 'Nissan', 'цвет': 'белый', 'год выпуска': '2010', \n",
    "      'номерной знак': 'X000YZ'}\n",
    "car(**c1)"
   ]
  },
  {
   "cell_type": "markdown",
   "id": "e53a2e53",
   "metadata": {},
   "source": [
    "5.8) Написать функцию, которая преобразует целое число (от 0 до 99) в текстовое написание числа на русском языке. Пример: to_text(15) -> 'Пятнадцать'"
   ]
  },
  {
   "cell_type": "code",
   "execution_count": 74,
   "id": "c64757e5",
   "metadata": {},
   "outputs": [],
   "source": [
    "def to_text(n):\n",
    "    numb = {0: 'ноль', 1: 'один', 2: 'два', 3: 'три', 4: 'четыре', 5: 'пять',\n",
    "    6: 'шесть', 7: 'семь', 8: 'восемь', 9: 'девять', 10: 'десять', 11: 'одиннадцать',\n",
    "    12: 'двенадцать', 13: 'тринадцать', 14: 'четырнадцать', 15: 'пятнадцать', \n",
    "    16: 'шестнадцать', 17: 'семнадцать', 18: 'восемнадцать', 19: 'девятнадцать'}\n",
    "    \n",
    "    des = {10: 'десять', 20: 'двадцать', 30: 'тридцать', 40: 'сорок', 50: 'пятьдесят',\n",
    "    60: 'шестьдесят', 70: 'семьдесят', 80: 'восемьдесят', 90: 'девяносто'}\n",
    "    \n",
    "    try:\n",
    "        if n in numb:\n",
    "            return numb[n]\n",
    "        elif n in des:\n",
    "            return des[n]\n",
    "        else:\n",
    "            numb_part = n % 10\n",
    "            des_part = n - numb_part\n",
    "            return des[des_part] + ' ' + numb[numb_part]\n",
    "    \n",
    "    except KeyError:\n",
    "        print('Число вне диапазона от 0 до 99')\n",
    "        "
   ]
  },
  {
   "cell_type": "code",
   "execution_count": 40,
   "id": "80d4f66c",
   "metadata": {},
   "outputs": [
    {
     "data": {
      "text/plain": [
       "'восемь'"
      ]
     },
     "execution_count": 40,
     "metadata": {},
     "output_type": "execute_result"
    }
   ],
   "source": [
    "to_text(8)"
   ]
  },
  {
   "cell_type": "code",
   "execution_count": 41,
   "id": "28f66054",
   "metadata": {},
   "outputs": [
    {
     "data": {
      "text/plain": [
       "'двадцать семь'"
      ]
     },
     "execution_count": 41,
     "metadata": {},
     "output_type": "execute_result"
    }
   ],
   "source": [
    "to_text(27)"
   ]
  },
  {
   "cell_type": "code",
   "execution_count": 42,
   "id": "acc9e01c",
   "metadata": {},
   "outputs": [
    {
     "data": {
      "text/plain": [
       "'семьдесят'"
      ]
     },
     "execution_count": 42,
     "metadata": {},
     "output_type": "execute_result"
    }
   ],
   "source": [
    "to_text(70)"
   ]
  },
  {
   "cell_type": "code",
   "execution_count": 43,
   "id": "8f36d8bd",
   "metadata": {},
   "outputs": [
    {
     "name": "stdout",
     "output_type": "stream",
     "text": [
      "Число вне диапазона от 0 до 99\n"
     ]
    }
   ],
   "source": [
    "to_text(105)"
   ]
  },
  {
   "cell_type": "code",
   "execution_count": 47,
   "id": "cbe9274d",
   "metadata": {},
   "outputs": [],
   "source": [
    "from num2words import num2words\n",
    "\n",
    "def to_text2(n):\n",
    "    if 0 <= n <= 99:\n",
    "        return num2words(n, lang = 'ru')\n",
    "    else:\n",
    "        return 'Число вне диапазона от 0 до 99'\n",
    "    "
   ]
  },
  {
   "cell_type": "code",
   "execution_count": 48,
   "id": "bca366cb",
   "metadata": {},
   "outputs": [
    {
     "data": {
      "text/plain": [
       "'восемь'"
      ]
     },
     "execution_count": 48,
     "metadata": {},
     "output_type": "execute_result"
    }
   ],
   "source": [
    "to_text2(8)"
   ]
  },
  {
   "cell_type": "code",
   "execution_count": 49,
   "id": "2f3469fc",
   "metadata": {},
   "outputs": [
    {
     "data": {
      "text/plain": [
       "'двадцать семь'"
      ]
     },
     "execution_count": 49,
     "metadata": {},
     "output_type": "execute_result"
    }
   ],
   "source": [
    "to_text2(27)"
   ]
  },
  {
   "cell_type": "code",
   "execution_count": 50,
   "id": "ecd51c6e",
   "metadata": {},
   "outputs": [
    {
     "data": {
      "text/plain": [
       "'семьдесят'"
      ]
     },
     "execution_count": 50,
     "metadata": {},
     "output_type": "execute_result"
    }
   ],
   "source": [
    "to_text2(70)"
   ]
  },
  {
   "cell_type": "code",
   "execution_count": 51,
   "id": "67c29190",
   "metadata": {},
   "outputs": [
    {
     "data": {
      "text/plain": [
       "'Число вне диапазона от 0 до 99'"
      ]
     },
     "execution_count": 51,
     "metadata": {},
     "output_type": "execute_result"
    }
   ],
   "source": [
    "to_text2(105)"
   ]
  },
  {
   "cell_type": "markdown",
   "id": "3ca11a59",
   "metadata": {},
   "source": [
    "5.9) Написать функцию, которая преобразует целое число (от 0 до 999) из текстового представления на руссокм языке в число типа int. Пример: to_int('тридцать три') -> 33"
   ]
  },
  {
   "cell_type": "code",
   "execution_count": 75,
   "id": "c733187f",
   "metadata": {},
   "outputs": [],
   "source": [
    "def to_int(s):\n",
    "    numb = {'ноль': 0, 'один': 1, 'два': 2, 'три': 3, 'четыре': 4,\n",
    "            'пять': 5,'шесть': 6, 'семь': 7, 'восемь': 8, 'девять': 9,\n",
    "            'одиннадцать': 11, 'двенадцать': 12, 'тринадцать': 13, \n",
    "            'четырнадцать': 14, 'пятнадцать': 15, 'шестнадцать': 16, \n",
    "            'семнадцать': 17,'восемнадцать': 18, 'девятнадцать': 19}\n",
    "    \n",
    "    des = {'десять': 10, 'двадцать': 20, 'тридцать': 30,\n",
    "           'сорок': 40,'пятьдесят': 50, 'шестьдесят': 60,\n",
    "           'семьдесят': 70, 'восемьдесят': 80, 'девяносто': 90}\n",
    "    \n",
    "    hund = {'сто': 100, 'двести': 200, 'триста': 300, 'четыреста': 400,\n",
    "    'пятьсот': 500, 'шестьсот': 600, 'семьсот': 700, 'восемьсот': 800,\n",
    "    'девятьсот': 900}\n",
    "    \n",
    "    s = s.split()\n",
    "    try:\n",
    "        if len(s) == 1:\n",
    "            if s[0] in numb: # число вида 6\n",
    "                return numb[s[0]]\n",
    "            elif s[0] in des: # число вида 30\n",
    "                return des[s[0]]\n",
    "            else: # число вида 200\n",
    "                return hund[s[0]]\n",
    "        elif len(s) == 2:\n",
    "            if s[0] in des: # число вида 24\n",
    "                return des[s[0]] + numb[s[1]]\n",
    "            elif s[1] in des: # число вида 150\n",
    "                return hund[s[0]] + des[s[1]]\n",
    "            else: # число вида 113 или 107\n",
    "                return hund[s[0]] + numb[s[1]]\n",
    "        else: # число вида 746\n",
    "            return hund[s[0]] + des[s[1]] + numb[s[2]] \n",
    "    \n",
    "    except KeyError:\n",
    "        print('Неверное число')\n",
    "            "
   ]
  },
  {
   "cell_type": "code",
   "execution_count": 57,
   "id": "d49fe0e3",
   "metadata": {},
   "outputs": [
    {
     "data": {
      "text/plain": [
       "19"
      ]
     },
     "execution_count": 57,
     "metadata": {},
     "output_type": "execute_result"
    }
   ],
   "source": [
    "to_int('девятнадцать')"
   ]
  },
  {
   "cell_type": "code",
   "execution_count": 58,
   "id": "c7321092",
   "metadata": {},
   "outputs": [
    {
     "data": {
      "text/plain": [
       "43"
      ]
     },
     "execution_count": 58,
     "metadata": {},
     "output_type": "execute_result"
    }
   ],
   "source": [
    "to_int('сорок три')"
   ]
  },
  {
   "cell_type": "code",
   "execution_count": 59,
   "id": "32e02491",
   "metadata": {},
   "outputs": [
    {
     "data": {
      "text/plain": [
       "200"
      ]
     },
     "execution_count": 59,
     "metadata": {},
     "output_type": "execute_result"
    }
   ],
   "source": [
    "to_int('двести')"
   ]
  },
  {
   "cell_type": "code",
   "execution_count": 60,
   "id": "6152a362",
   "metadata": {},
   "outputs": [
    {
     "data": {
      "text/plain": [
       "505"
      ]
     },
     "execution_count": 60,
     "metadata": {},
     "output_type": "execute_result"
    }
   ],
   "source": [
    "to_int('пятьсот пять')"
   ]
  },
  {
   "cell_type": "code",
   "execution_count": 61,
   "id": "be3c175d",
   "metadata": {},
   "outputs": [
    {
     "data": {
      "text/plain": [
       "867"
      ]
     },
     "execution_count": 61,
     "metadata": {},
     "output_type": "execute_result"
    }
   ],
   "source": [
    "to_int('восемьсот шестьдесят семь')"
   ]
  },
  {
   "cell_type": "markdown",
   "id": "de5bcb30",
   "metadata": {},
   "source": [
    "6.1) Написать калькулятор для строковых выражений вида '<число> <операция> <число>', где <число> - не отрицательное целое число меньшее 100, записанное словами, например \"тридцать четыре\", <арифмитическая операция> - одна из операций \"плюс\",\"минус\",\"умножить\". Результат выполнения операции вернуть в виде текстового представления числа. Пример calc('двадцать пять плюс тринадцать') -> \"тридцать восемь\""
   ]
  },
  {
   "cell_type": "code",
   "execution_count": 96,
   "id": "40bd00fb",
   "metadata": {},
   "outputs": [],
   "source": [
    "from num2words import num2words\n",
    "\n",
    "def calc_2(s):\n",
    "    ops = {'плюс' : '+','минус': '-','умножить': '*'}\n",
    "    \n",
    "    s = s.split()\n",
    "    res = ''\n",
    "    number = ''\n",
    "    for i in s:\n",
    "        if i in ops: # если это операция\n",
    "            res += str(to_int(number)) # добавляем полученное число к строке с результатом\n",
    "            number = ''\n",
    "            res += ops[i] # добавляем операцию\n",
    "        elif i == 'на':\n",
    "            pass\n",
    "        else:\n",
    "            number += i + ' ' # собираем число (до операции и после)\n",
    "    \n",
    "    res += str(to_int(number)) # добавляем число после плюса\n",
    "    res = eval(res)\n",
    "    return num2words(res, lang = 'ru') # переводим результат в текст\n"
   ]
  },
  {
   "cell_type": "code",
   "execution_count": 97,
   "id": "c8f1aea3",
   "metadata": {},
   "outputs": [
    {
     "data": {
      "text/plain": [
       "'тридцать восемь'"
      ]
     },
     "execution_count": 97,
     "metadata": {},
     "output_type": "execute_result"
    }
   ],
   "source": [
    "calc_2('двадцать пять плюс тринадцать') "
   ]
  },
  {
   "cell_type": "code",
   "execution_count": 98,
   "id": "e951ebeb",
   "metadata": {},
   "outputs": [
    {
     "data": {
      "text/plain": [
       "'триста шестьдесят три'"
      ]
     },
     "execution_count": 98,
     "metadata": {},
     "output_type": "execute_result"
    }
   ],
   "source": [
    "calc_2('тридцать три умножить на одиннадцать') "
   ]
  },
  {
   "cell_type": "code",
   "execution_count": null,
   "id": "e2919b27",
   "metadata": {},
   "outputs": [],
   "source": []
  }
 ],
 "metadata": {
  "kernelspec": {
   "display_name": "Python 3 (ipykernel)",
   "language": "python",
   "name": "python3"
  },
  "language_info": {
   "codemirror_mode": {
    "name": "ipython",
    "version": 3
   },
   "file_extension": ".py",
   "mimetype": "text/x-python",
   "name": "python",
   "nbconvert_exporter": "python",
   "pygments_lexer": "ipython3",
   "version": "3.11.5"
  }
 },
 "nbformat": 4,
 "nbformat_minor": 5
}
