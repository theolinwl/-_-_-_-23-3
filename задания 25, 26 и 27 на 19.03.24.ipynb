{
 "cells": [
  {
   "cell_type": "markdown",
   "id": "50c4a512",
   "metadata": {},
   "source": [
    "25 задание"
   ]
  },
  {
   "cell_type": "markdown",
   "id": "f8f8a73a",
   "metadata": {},
   "source": [
    "12. Класс – треугольник. Методы – расчет площади и периметра треуголь-ника. Поля – стороны треугольника."
   ]
  },
  {
   "cell_type": "code",
   "execution_count": 30,
   "id": "de129513",
   "metadata": {},
   "outputs": [],
   "source": [
    "class Triangle:\n",
    "    def __init__(self, sides):\n",
    "        self.sides = sides\n",
    "    \n",
    "    def check_existence(self):\n",
    "        # проверка, существует ли треугольник с указанными сторонами\n",
    "        a, b, c = self.sides[0], self.sides[1], self.sides[2]\n",
    "        if (a + b) > c and (a + c) > b and (b + c) > a:\n",
    "            return True\n",
    "        return False\n",
    "    \n",
    "    def perimeter(self):\n",
    "        if self.check_existence():\n",
    "            return sum(side for side in self.sides)\n",
    "        else:\n",
    "            print('Треугольник не существует')\n",
    "    \n",
    "    def area(self):\n",
    "        if self.check_existence():\n",
    "            # по формуле герона\n",
    "            p = 0.5 * sum(side for side in self.sides)\n",
    "            a, b, c = self.sides[0], self.sides[1], self.sides[2]\n",
    "            sq = (p*(p-a)*(p-b)*(p-c))**0.5\n",
    "            return sq\n",
    "        else:\n",
    "            print('Треугольник не существует')\n",
    "            "
   ]
  },
  {
   "cell_type": "code",
   "execution_count": 31,
   "id": "da5d951a",
   "metadata": {},
   "outputs": [],
   "source": [
    "tr = Triangle([9, 3, 7])"
   ]
  },
  {
   "cell_type": "code",
   "execution_count": 32,
   "id": "2f0aed1a",
   "metadata": {},
   "outputs": [
    {
     "data": {
      "text/plain": [
       "19"
      ]
     },
     "execution_count": 32,
     "metadata": {},
     "output_type": "execute_result"
    }
   ],
   "source": [
    "tr.perimeter()"
   ]
  },
  {
   "cell_type": "code",
   "execution_count": 33,
   "id": "bccb0656",
   "metadata": {},
   "outputs": [
    {
     "data": {
      "text/plain": [
       "8.78564169540279"
      ]
     },
     "execution_count": 33,
     "metadata": {},
     "output_type": "execute_result"
    }
   ],
   "source": [
    "tr.area()"
   ]
  },
  {
   "cell_type": "code",
   "execution_count": 34,
   "id": "d53e5eb5",
   "metadata": {},
   "outputs": [],
   "source": [
    "tr2 = Triangle([2, 10, 7])"
   ]
  },
  {
   "cell_type": "code",
   "execution_count": 35,
   "id": "2ddd2c9e",
   "metadata": {},
   "outputs": [
    {
     "name": "stdout",
     "output_type": "stream",
     "text": [
      "Треугольник не существует\n"
     ]
    }
   ],
   "source": [
    "tr2.perimeter()"
   ]
  },
  {
   "cell_type": "markdown",
   "id": "1792e7af",
   "metadata": {},
   "source": [
    "26 задание"
   ]
  },
  {
   "cell_type": "markdown",
   "id": "44e075fc",
   "metadata": {},
   "source": [
    "12. Опишите класс Salary. Для класса задаются атрибуты: фамилия, имя и отчество, год поступления на работу, оклад в рублях, процент надбавки, количество отработанных дней в месяце, количество рабочих дней в месяце, начисленная и удержанная суммы. Включите в описание класса методы: вычисления начисленной суммы, вычисления удержанной суммы, вычисления суммы, выдаваемой на руки, а также свойство только для чтения, позволяющее определить стаж работы (вычисляется как полное количество лет, прошедших с момента зачисления на работу до задаваемого текущего года). Начисленная сумма вычисляется за отработанные дни месяца плюс надбавка. Удержания — подоходный налог 13%."
   ]
  },
  {
   "cell_type": "code",
   "execution_count": 48,
   "id": "997546cd",
   "metadata": {},
   "outputs": [],
   "source": [
    "class Salary:\n",
    "    def __init__(self, surname, name, patronymic, year, salary, bonus_percentage, \n",
    "                 worked_days, days_count, accrued_amount = 0, amount_withheld = 0):\n",
    "        self.surname = surname\n",
    "        self.name = name\n",
    "        self.patronymic = patronymic\n",
    "        self.year = year\n",
    "        self.salary = salary\n",
    "        self.bonus_presentage = bonus_percentage\n",
    "        self.worked_days = worked_days\n",
    "        self.days_count = days_count\n",
    "        self.accrued_amount = accrued_amount\n",
    "        self.amount_withheld = amount_withheld\n",
    "        \n",
    "    def calс_of_accrued_amount(self):\n",
    "        self.accrued_amount = self.worked_days * self.salary * (100 + self.bonus_presentage) / 100\n",
    "        return self.accrued_amount\n",
    "    \n",
    "    def calc_of_amount_withheld(self):\n",
    "        self.amount_withheld = 0.13 * self.accrued_amount\n",
    "        return self.amount_withheld\n",
    "    \n",
    "    def calc_of_given_amount(self):\n",
    "        return self.accrued_amount - self.amount_withheld\n",
    "    \n",
    "    def experience(self, current_year):\n",
    "        return current_year - self.year\n",
    "        "
   ]
  },
  {
   "cell_type": "code",
   "execution_count": 49,
   "id": "99a4b5cc",
   "metadata": {},
   "outputs": [],
   "source": [
    "person = Salary('Иванов', 'Иван', 'Иванович', 2005, 3200, 10, 20, 31)"
   ]
  },
  {
   "cell_type": "code",
   "execution_count": 50,
   "id": "69d992e8",
   "metadata": {},
   "outputs": [
    {
     "data": {
      "text/plain": [
       "70400.0"
      ]
     },
     "execution_count": 50,
     "metadata": {},
     "output_type": "execute_result"
    }
   ],
   "source": [
    "person.calс_of_accrued_amount()"
   ]
  },
  {
   "cell_type": "code",
   "execution_count": 51,
   "id": "6352a3b0",
   "metadata": {},
   "outputs": [
    {
     "data": {
      "text/plain": [
       "9152.0"
      ]
     },
     "execution_count": 51,
     "metadata": {},
     "output_type": "execute_result"
    }
   ],
   "source": [
    "person.calc_of_amount_withheld()"
   ]
  },
  {
   "cell_type": "code",
   "execution_count": 52,
   "id": "54d8e668",
   "metadata": {},
   "outputs": [
    {
     "data": {
      "text/plain": [
       "61248.0"
      ]
     },
     "execution_count": 52,
     "metadata": {},
     "output_type": "execute_result"
    }
   ],
   "source": [
    "person.calc_of_given_amount()"
   ]
  },
  {
   "cell_type": "code",
   "execution_count": 53,
   "id": "4340c835",
   "metadata": {},
   "outputs": [
    {
     "data": {
      "text/plain": [
       "19"
      ]
     },
     "execution_count": 53,
     "metadata": {},
     "output_type": "execute_result"
    }
   ],
   "source": [
    "person.experience(2024)"
   ]
  },
  {
   "cell_type": "markdown",
   "id": "af066f25",
   "metadata": {},
   "source": [
    "27 задание"
   ]
  },
  {
   "cell_type": "markdown",
   "id": "649022d9",
   "metadata": {},
   "source": [
    "12. Создайте класс УРАВНЕНИЕ с методами вычисления корня уравнения и вывода результата на экран. Создайте дочерние классы ЛИНЕЙНОЕ, КВАДРАТНОЕ со своими методами вычисления корней и вывода на экран. Создайте список  n  уравнений и выведите полную информацию об уравнениях на экран."
   ]
  },
  {
   "cell_type": "code",
   "execution_count": 61,
   "id": "c47df1c5",
   "metadata": {},
   "outputs": [],
   "source": [
    "import sympy as sym\n",
    "# библиотека символьной математики"
   ]
  },
  {
   "cell_type": "code",
   "execution_count": 168,
   "id": "571b602c",
   "metadata": {},
   "outputs": [],
   "source": [
    "class Equation:\n",
    "    # атрибуты - строковое представление уравнения (нужно для вывода и для дочерних классов)\n",
    "    # и уравнение в нном виде для использования библиотеки\n",
    "    def __init__(self, equation):\n",
    "        self.str = str(equation)\n",
    "        self.equation = Eq(equation, 0)\n",
    "        \n",
    "    def root_calc(self):\n",
    "        x = Symbol('x') # обозначаем, что х - символ\n",
    "        # solveset() для решения уравнений или выражений \n",
    "        # (предполагаемых равными 0) для одной переменной.\n",
    "        roots = sym.solveset(self.equation, x)\n",
    "        return roots\n",
    "        \n",
    "    def print_roots(self):\n",
    "        print(self.str, '= 0')\n",
    "        print('Корни:')\n",
    "        roots = self.root_calc()\n",
    "        print(roots)\n",
    "        "
   ]
  },
  {
   "cell_type": "code",
   "execution_count": 169,
   "id": "4a6ec767",
   "metadata": {},
   "outputs": [],
   "source": [
    "eq = Equation(x ** 4 - 1)"
   ]
  },
  {
   "cell_type": "code",
   "execution_count": 170,
   "id": "291e60e9",
   "metadata": {},
   "outputs": [
    {
     "name": "stdout",
     "output_type": "stream",
     "text": [
      "x**4 - 1 = 0\n",
      "Корни:\n",
      "{-1, 1, -I, I}\n"
     ]
    }
   ],
   "source": [
    "eq.print_roots()"
   ]
  },
  {
   "cell_type": "code",
   "execution_count": 171,
   "id": "bf70fc22",
   "metadata": {},
   "outputs": [],
   "source": [
    "class Linear(Equation):\n",
    "    def root_calc(self):\n",
    "        # избавляемся от знаков умножения и разделяем по х\n",
    "        coef = self.str.replace('*', '')\n",
    "        coef = coef.replace(' ','')\n",
    "        coef = coef.split('x')\n",
    "        a, b = coef\n",
    "        a, b = int(a), int(b)\n",
    "        try:\n",
    "            return -b / a\n",
    "        except ZeroDivisionError:\n",
    "            print('Уравнение не является линейным')\n",
    "            "
   ]
  },
  {
   "cell_type": "code",
   "execution_count": 189,
   "id": "868f0b77",
   "metadata": {},
   "outputs": [],
   "source": [
    "class Square(Equation):\n",
    "    def root_calc(self):\n",
    "        # избавляемся от знаков умножения и степени\n",
    "        coef = self.str.replace('*', '')\n",
    "        coef = coef.replace(' ','')\n",
    "        coef = coef.split('x')\n",
    "        coef[1] = coef[1][1:]\n",
    "        a, b, c = coef\n",
    "        a, b, c = int(a), int(b), int(c)\n",
    "        D = b**2 - 4 * a * c\n",
    "        try: \n",
    "            if D > 0:\n",
    "                root1 = (-b + D**0.5) / (2 * a)\n",
    "                root2 = (-b - D**0.5) / (2 * a)\n",
    "                return root1, root2\n",
    "            elif D == 0:\n",
    "                root = -b / (2 * a)\n",
    "                return root\n",
    "            else:\n",
    "                check = 1 / a\n",
    "                return \"Действительных корней нет\"\n",
    "        except ZeroDivisionError:\n",
    "            print('Уравнение не является квадратным')\n",
    "            "
   ]
  },
  {
   "cell_type": "code",
   "execution_count": 190,
   "id": "5ab53100",
   "metadata": {},
   "outputs": [],
   "source": [
    "equations = [Linear(8*x-1), Square(2*x**2 - 3*x + 1), Equation(x**4 + x**3 + 2*x**2 - x - 3)]"
   ]
  },
  {
   "cell_type": "code",
   "execution_count": 191,
   "id": "87ba2461",
   "metadata": {},
   "outputs": [
    {
     "name": "stdout",
     "output_type": "stream",
     "text": [
      "8*x - 1 = 0\n",
      "Корни:\n",
      "0.125\n",
      "\n",
      "2*x**2 - 3*x + 1 = 0\n",
      "Корни:\n",
      "(1.0, 0.5)\n",
      "\n",
      "x**4 + x**3 + 2*x**2 - x - 3 = 0\n",
      "Корни:\n",
      "{-1, 1, -1/2 - sqrt(11)*I/2, -1/2 + sqrt(11)*I/2}\n",
      "\n"
     ]
    }
   ],
   "source": [
    "for i in equations:\n",
    "    i.print_roots()\n",
    "    print()"
   ]
  },
  {
   "cell_type": "code",
   "execution_count": null,
   "id": "26903e0f",
   "metadata": {},
   "outputs": [],
   "source": []
  },
  {
   "cell_type": "code",
   "execution_count": null,
   "id": "34b3ec27",
   "metadata": {},
   "outputs": [],
   "source": []
  }
 ],
 "metadata": {
  "kernelspec": {
   "display_name": "Python 3 (ipykernel)",
   "language": "python",
   "name": "python3"
  },
  "language_info": {
   "codemirror_mode": {
    "name": "ipython",
    "version": 3
   },
   "file_extension": ".py",
   "mimetype": "text/x-python",
   "name": "python",
   "nbconvert_exporter": "python",
   "pygments_lexer": "ipython3",
   "version": "3.11.5"
  }
 },
 "nbformat": 4,
 "nbformat_minor": 5
}
