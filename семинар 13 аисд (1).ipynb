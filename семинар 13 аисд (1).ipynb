{
 "cells": [
  {
   "cell_type": "markdown",
   "id": "04a0faf9",
   "metadata": {},
   "source": [
    "1) Реализовать простейший динамический массив, поддерживающий добавление элемента в конец массива при помощи метода append(e).\n",
    "Также должны поддерживаться следующие операции:\n",
    "\n",
    "•\tизвлечение элемента по индексу;\n",
    "\n",
    "•\tустанавка нового значения по индексу;\n",
    "\n",
    "•\tполучение текущей длины массива.\n",
    "\n",
    "1.1) Добавить реализацию удаления элемента из любого места массива и поддержку корректного вывода массива при помощи функции print."
   ]
  },
  {
   "cell_type": "code",
   "execution_count": 32,
   "id": "ebe5a7ff",
   "metadata": {},
   "outputs": [],
   "source": [
    "class Dynamic_Array():\n",
    "    def __init__(self):\n",
    "        self.array=[]\n",
    "    def append(self,elem):\n",
    "        return self.array.append(elem)\n",
    "    def elem_by_index(self,index):\n",
    "        return self.array[index]\n",
    "    def new_value(self,index,value):\n",
    "        self.array[index]=value\n",
    "    def __len__(self):\n",
    "        return len(self.array)\n",
    "    def delete_by_ind(self,index):\n",
    "        del self.array[index]\n",
    "    def __str__(self):\n",
    "        return str(self.array)"
   ]
  },
  {
   "cell_type": "code",
   "execution_count": 33,
   "id": "605a963d",
   "metadata": {},
   "outputs": [
    {
     "name": "stdout",
     "output_type": "stream",
     "text": [
      "[2, 5, 3]\n"
     ]
    }
   ],
   "source": [
    "array=Dynamic_Array()\n",
    "array.append(2)\n",
    "array.append(5)\n",
    "array.append(3)\n",
    "print(array)"
   ]
  },
  {
   "cell_type": "code",
   "execution_count": 34,
   "id": "3f3dc68f",
   "metadata": {},
   "outputs": [
    {
     "name": "stdout",
     "output_type": "stream",
     "text": [
      "2\n"
     ]
    }
   ],
   "source": [
    "print(array.elem_by_index(0))"
   ]
  },
  {
   "cell_type": "code",
   "execution_count": 35,
   "id": "94dcc1b9",
   "metadata": {},
   "outputs": [
    {
     "name": "stdout",
     "output_type": "stream",
     "text": [
      "[2, 10, 3]\n"
     ]
    }
   ],
   "source": [
    "array.new_value(1,10)\n",
    "print(array)"
   ]
  },
  {
   "cell_type": "code",
   "execution_count": 36,
   "id": "ba4aefa4",
   "metadata": {},
   "outputs": [
    {
     "name": "stdout",
     "output_type": "stream",
     "text": [
      "3\n"
     ]
    }
   ],
   "source": [
    "print(len(array))"
   ]
  },
  {
   "cell_type": "code",
   "execution_count": 37,
   "id": "f0cd2066",
   "metadata": {},
   "outputs": [
    {
     "name": "stdout",
     "output_type": "stream",
     "text": [
      "[2, 10]\n"
     ]
    }
   ],
   "source": [
    "array.delete_by_ind(2)\n",
    "print(array)"
   ]
  },
  {
   "cell_type": "markdown",
   "id": "e94fea5d",
   "metadata": {},
   "source": [
    "2) Реализовать генератор, который возвращает значение поочередно извлекаемое из конца двух очередей (в качестве очереди используется deque из collections). Если очередь из которой извлекается элемент пуста - генератор заканчивает работу."
   ]
  },
  {
   "cell_type": "code",
   "execution_count": 5,
   "id": "4a43232b",
   "metadata": {},
   "outputs": [
    {
     "name": "stdout",
     "output_type": "stream",
     "text": [
      "4 7 3 6 2 5 "
     ]
    }
   ],
   "source": [
    "from collections import deque\n",
    "def generator(q1,q2):\n",
    "    while q1 and q2:\n",
    "        # с помощью yield возвращаем не одно значение, а генератор\n",
    "        yield q1.pop()\n",
    "        yield q2.pop()\n",
    "q1 = deque([1, 2, 3, 4])\n",
    "q2 = deque([5, 6, 7])\n",
    "\n",
    "gen = generator(q1,q2)\n",
    "for i in gen:\n",
    "    print(i, end=' ')"
   ]
  },
  {
   "cell_type": "markdown",
   "id": "bac0f39e",
   "metadata": {},
   "source": [
    "3) Реализовать классы с медодом action():\n",
    "\n",
    "а) Класс Pump - в методе action() извлекает очередное значение из генератора и помещает значение в очередь (очередь передается в конструктор).\n",
    "\n",
    "b) Класс MultiAction - при вызове метода action() n раз вызвает метод action() класса, переданного в конструкторе. Число n также определяется в конструкторе.\n",
    "\n",
    "c) Класс MultiPump - в методе action() извлекает очередное значение из генератора и помещает значение в одну из очередей (очереди передается в конструкторе); очереди , в которые помещаются очередные значения, меняются по порядку."
   ]
  },
  {
   "cell_type": "code",
   "execution_count": 2,
   "id": "b7c811ee",
   "metadata": {},
   "outputs": [],
   "source": [
    "class Pump():\n",
    "    def __init__(self,queue):\n",
    "        self.queue=queue\n",
    "    def action(self,generator):\n",
    "        try:\n",
    "            # берем следующее значение генератора \n",
    "            value=next(generator)\n",
    "            self.queue.append(value)\n",
    "        except StopIteration:\n",
    "            print('Генератор пустой')\n",
    "            \n",
    "class MultiAction():\n",
    "    def __init__(self,class_name,n):\n",
    "        self.n=n\n",
    "        self.class_name=class_name\n",
    "    def action(self, generator):\n",
    "        for i in range(self.n):\n",
    "            self.class_name.action(generator)\n",
    "            \n",
    "class MultiPump():\n",
    "    def __init__(self,queues):\n",
    "        self.queues=queues\n",
    "        self.count=0\n",
    "    def action(self,generator):\n",
    "        try:\n",
    "            value=next(generator)\n",
    "            # очереди идут по порядку, начиная с 0\n",
    "            current=self.queues[self.count]\n",
    "            current.append(value)\n",
    "            # count увеличивается до количества очередей минус 1\n",
    "            # потом обратно сбрасывается до нулевой очереди\n",
    "            self.count=(self.count+1)%len(self.queues)\n",
    "        except StopIteration:\n",
    "            print(\"Генератор пустой\")"
   ]
  },
  {
   "cell_type": "code",
   "execution_count": 15,
   "id": "4252d21b",
   "metadata": {},
   "outputs": [
    {
     "name": "stdout",
     "output_type": "stream",
     "text": [
      "deque([0, 2, 4])\n",
      "deque([1, 3])\n"
     ]
    }
   ],
   "source": [
    "from collections import deque\n",
    "gen = (i for i in range(5))\n",
    "q1 = deque()\n",
    "q2 = deque()\n",
    "multi_pump = MultiPump([q1, q2])\n",
    "for i in range(5):\n",
    "    multi_pump.action(gen)\n",
    "\n",
    "\n",
    "print(q1) \n",
    "print(q2) "
   ]
  },
  {
   "cell_type": "markdown",
   "id": "643034eb",
   "metadata": {},
   "source": [
    "4) При помощи GenFromQ, Pump реализовать систему обработки сообщений. Сообщения создаются генератором сообщений возвращающим случайным образорм одно из сообщений. Сообщения из трех генераторов закачиваются в три очереди при помощи классов Pump, далее при помощи GenFromQ и Pump объединяются в одну очередь и выводятся на экран (можно реализовать при помощи класса с action и вызываемого при помощи MultiPump)."
   ]
  },
  {
   "cell_type": "code",
   "execution_count": 3,
   "id": "aa41899f",
   "metadata": {},
   "outputs": [
    {
     "name": "stdout",
     "output_type": "stream",
     "text": [
      "deque([0, 'q', True, 1, 'w', False, 2, 'e', False, 3, 'r', False, 4, 't', True])\n"
     ]
    }
   ],
   "source": [
    "from collections import deque\n",
    "def GenFromQ(*args):\n",
    "    k=0\n",
    "    # пока в последней очереди есть элементы\n",
    "    while args[2]:\n",
    "        # т.к. мы идем по порядку, и первой закачивается первая очередь, \n",
    "        # k никогда не будет пытаться брать элемент из пустой очереди\n",
    "        elem=args[k][0]\n",
    "        # берем элемент из начала и удаляем его\n",
    "        args[k].popleft()\n",
    "        # k увеличивается до количества args минус 1\n",
    "        # потом обратно сбрасывается до нулевого элемента\n",
    "        k=(k+1)%len(args)\n",
    "        yield elem\n",
    "q1,q2,q3=deque(),deque(),deque()\n",
    "p1,p2,p3=Pump(q1),Pump(q2),Pump(q3)\n",
    "gen1=(i for i in range(5))\n",
    "gen2=(i for i in 'qwert')\n",
    "gen3=(i for i in [True,False,False,False,True])\n",
    "for i in range(5):\n",
    "    p1.action(gen1)\n",
    "    p2.action(gen2)\n",
    "    p3.action(gen3)\n",
    "    \n",
    "res_gen=GenFromQ(q1,q2,q3)\n",
    "res=deque()\n",
    "res_pump=Pump(res)\n",
    "for i in range(15):\n",
    "    res_pump.action(res_gen)\n",
    "print(res)    "
   ]
  },
  {
   "cell_type": "code",
   "execution_count": null,
   "id": "99e02351",
   "metadata": {},
   "outputs": [],
   "source": []
  }
 ],
 "metadata": {
  "kernelspec": {
   "display_name": "Python 3 (ipykernel)",
   "language": "python",
   "name": "python3"
  },
  "language_info": {
   "codemirror_mode": {
    "name": "ipython",
    "version": 3
   },
   "file_extension": ".py",
   "mimetype": "text/x-python",
   "name": "python",
   "nbconvert_exporter": "python",
   "pygments_lexer": "ipython3",
   "version": "3.10.9"
  }
 },
 "nbformat": 4,
 "nbformat_minor": 5
}
